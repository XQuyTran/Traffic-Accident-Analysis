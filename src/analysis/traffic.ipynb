{
  "nbformat": 4,
  "nbformat_minor": 0,
  "metadata": {
    "colab": {
      "name": "traffic.ipynb",
      "provenance": []
    },
    "kernelspec": {
      "name": "python3",
      "display_name": "Python 3"
    },
    "language_info": {
      "name": "python"
    }
  },
  "cells": [
    {
      "cell_type": "code",
      "metadata": {
        "id": "RqIXuMCFCHA3",
        "colab": {
          "base_uri": "https://localhost:8080/"
        },
        "outputId": "6942fb84-ba27-457c-b629-ca288e2ed05c"
      },
      "source": [
        "import numpy as np\n",
        "import random\n",
        "import pandas as pd\n",
        "import matplotlib.pyplot as plt\n",
        "import seaborn as sns\n",
        "\n",
        "!pip install apyori\n",
        "from apyori import apriori"
      ],
      "execution_count": 8,
      "outputs": [
        {
          "output_type": "stream",
          "text": [
            "Requirement already satisfied: apyori in /usr/local/lib/python3.7/dist-packages (1.1.2)\n"
          ],
          "name": "stdout"
        }
      ]
    },
    {
      "cell_type": "code",
      "metadata": {
        "colab": {
          "base_uri": "https://localhost:8080/",
          "height": 496
        },
        "id": "z1IycVigDTA6",
        "outputId": "22643a32-332b-4469-d5c1-53cede2818fc"
      },
      "source": [
        "df = pd.read_csv('afterPreprocess.csv')\n",
        "df.head()"
      ],
      "execution_count": 9,
      "outputs": [
        {
          "output_type": "execute_result",
          "data": {
            "text/html": [
              "<div>\n",
              "<style scoped>\n",
              "    .dataframe tbody tr th:only-of-type {\n",
              "        vertical-align: middle;\n",
              "    }\n",
              "\n",
              "    .dataframe tbody tr th {\n",
              "        vertical-align: top;\n",
              "    }\n",
              "\n",
              "    .dataframe thead th {\n",
              "        text-align: right;\n",
              "    }\n",
              "</style>\n",
              "<table border=\"1\" class=\"dataframe\">\n",
              "  <thead>\n",
              "    <tr style=\"text-align: right;\">\n",
              "      <th></th>\n",
              "      <th>Reference Number</th>\n",
              "      <th>Grid Ref: Easting</th>\n",
              "      <th>Grid Ref: Northing</th>\n",
              "      <th>Number of Vehicles</th>\n",
              "      <th>Accident Date</th>\n",
              "      <th>Time (24hr)</th>\n",
              "      <th>1st Road Class</th>\n",
              "      <th>1st Road Class &amp; No</th>\n",
              "      <th>Road Surface</th>\n",
              "      <th>Lighting Conditions</th>\n",
              "      <th>Weather Conditions</th>\n",
              "      <th>Local Authority</th>\n",
              "      <th>Type of Vehicle</th>\n",
              "      <th>Casualty Class</th>\n",
              "      <th>Casualty Severity</th>\n",
              "      <th>Sex of Casualty</th>\n",
              "      <th>Age of Casualty</th>\n",
              "    </tr>\n",
              "  </thead>\n",
              "  <tbody>\n",
              "    <tr>\n",
              "      <th>0</th>\n",
              "      <td>5110577</td>\n",
              "      <td>430660</td>\n",
              "      <td>430766</td>\n",
              "      <td>1</td>\n",
              "      <td>2018-01-01</td>\n",
              "      <td>03:44:00</td>\n",
              "      <td>Unclassified</td>\n",
              "      <td>U</td>\n",
              "      <td>Wet / Damp</td>\n",
              "      <td>Darkness: street lights present and lit</td>\n",
              "      <td>Fine without high winds</td>\n",
              "      <td>E08000035</td>\n",
              "      <td>Car</td>\n",
              "      <td>Vehicle or pillion passenger</td>\n",
              "      <td>Slight</td>\n",
              "      <td>Male</td>\n",
              "      <td>23</td>\n",
              "    </tr>\n",
              "    <tr>\n",
              "      <th>1</th>\n",
              "      <td>5110577</td>\n",
              "      <td>430660</td>\n",
              "      <td>430766</td>\n",
              "      <td>1</td>\n",
              "      <td>2018-01-01</td>\n",
              "      <td>03:44:00</td>\n",
              "      <td>Unclassified</td>\n",
              "      <td>U</td>\n",
              "      <td>Wet / Damp</td>\n",
              "      <td>Darkness: street lights present and lit</td>\n",
              "      <td>Fine without high winds</td>\n",
              "      <td>E08000035</td>\n",
              "      <td>Car</td>\n",
              "      <td>Driver or rider</td>\n",
              "      <td>Slight</td>\n",
              "      <td>Male</td>\n",
              "      <td>23</td>\n",
              "    </tr>\n",
              "    <tr>\n",
              "      <th>2</th>\n",
              "      <td>5110577</td>\n",
              "      <td>430660</td>\n",
              "      <td>430766</td>\n",
              "      <td>1</td>\n",
              "      <td>2018-01-01</td>\n",
              "      <td>03:44:00</td>\n",
              "      <td>Unclassified</td>\n",
              "      <td>U</td>\n",
              "      <td>Wet / Damp</td>\n",
              "      <td>Darkness: street lights present and lit</td>\n",
              "      <td>Fine without high winds</td>\n",
              "      <td>E08000035</td>\n",
              "      <td>Car</td>\n",
              "      <td>Vehicle or pillion passenger</td>\n",
              "      <td>Serious</td>\n",
              "      <td>Male</td>\n",
              "      <td>33</td>\n",
              "    </tr>\n",
              "    <tr>\n",
              "      <th>3</th>\n",
              "      <td>5111304</td>\n",
              "      <td>431442</td>\n",
              "      <td>432717</td>\n",
              "      <td>2</td>\n",
              "      <td>2018-01-01</td>\n",
              "      <td>13:35:00</td>\n",
              "      <td>A</td>\n",
              "      <td>A63</td>\n",
              "      <td>Dry</td>\n",
              "      <td>Daylight: street lights present</td>\n",
              "      <td>Fine without high winds</td>\n",
              "      <td>E08000035</td>\n",
              "      <td>Car</td>\n",
              "      <td>Driver or rider</td>\n",
              "      <td>Slight</td>\n",
              "      <td>Female</td>\n",
              "      <td>57</td>\n",
              "    </tr>\n",
              "    <tr>\n",
              "      <th>4</th>\n",
              "      <td>5111365</td>\n",
              "      <td>429509</td>\n",
              "      <td>431308</td>\n",
              "      <td>2</td>\n",
              "      <td>2018-01-01</td>\n",
              "      <td>14:21:00</td>\n",
              "      <td>Unclassified</td>\n",
              "      <td>U</td>\n",
              "      <td>Wet / Damp</td>\n",
              "      <td>Daylight: street lights present</td>\n",
              "      <td>Raining without high winds</td>\n",
              "      <td>E08000035</td>\n",
              "      <td>Car</td>\n",
              "      <td>Vehicle or pillion passenger</td>\n",
              "      <td>Slight</td>\n",
              "      <td>Male</td>\n",
              "      <td>18</td>\n",
              "    </tr>\n",
              "  </tbody>\n",
              "</table>\n",
              "</div>"
            ],
            "text/plain": [
              "  Reference Number  Grid Ref: Easting  ...  Sex of Casualty  Age of Casualty\n",
              "0          5110577             430660  ...             Male               23\n",
              "1          5110577             430660  ...             Male               23\n",
              "2          5110577             430660  ...             Male               33\n",
              "3          5111304             431442  ...           Female               57\n",
              "4          5111365             429509  ...             Male               18\n",
              "\n",
              "[5 rows x 17 columns]"
            ]
          },
          "metadata": {
            "tags": []
          },
          "execution_count": 9
        }
      ]
    },
    {
      "cell_type": "code",
      "metadata": {
        "id": "UjtTS7FH884X"
      },
      "source": [
        "# hàm bổ trợ\n",
        "def makeXAxis(start, step, end):\n",
        "  x_axis = []\n",
        "  pre = start\n",
        "  while True:\n",
        "    next = pre + step\n",
        "    if next > end:\n",
        "      next = end\n",
        "    x_axis.append((pre, next))\n",
        "    pre += step\n",
        "    if pre >= end:\n",
        "      break\n",
        "  return x_axis\n",
        "\n",
        "def makeYAxis(s, x_axis):\n",
        "  y_axis_values = {}\n",
        "  for i in x_axis:\n",
        "    y_axis_values[i] = []\n",
        "\n",
        "  for i in s:\n",
        "    for j in x_axis:\n",
        "      if j[1] == x_axis[-1][1]:\n",
        "        if i >= j[0] and i <= j[1]:\n",
        "          y_axis_values[j].append(i)\n",
        "      elif i >= j[0] and i < j[1]:\n",
        "        y_axis_values[j].append(i)\n",
        "\n",
        "  y_axis = []\n",
        "  for i in x_axis:\n",
        "    y_axis.append(len(y_axis_values[i]))\n",
        "  return y_axis\n",
        "\n",
        "def draw(x_axis, y_axis, title, x_label, y_label, size, rotation=45, barh=False):\n",
        "  plt.figure(figsize=size)\n",
        "  plt.xticks(rotation = rotation)\n",
        "  if barh:\n",
        "      plt.barh([str(i) for i in x_axis], y_axis)\n",
        "  else:\n",
        "      plt.bar([str(i) for i in x_axis], y_axis)\n",
        "  plt.xlabel(x_label)\n",
        "  plt.ylabel(y_label)\n",
        "  plt.title(title)\n",
        "  plt.show()"
      ],
      "execution_count": 10,
      "outputs": []
    },
    {
      "cell_type": "markdown",
      "metadata": {
        "id": "Udulxgd3XGcd"
      },
      "source": [
        "# Tìm tập phổ biến bằng thuật toán Apriori"
      ]
    },
    {
      "cell_type": "code",
      "metadata": {
        "colab": {
          "base_uri": "https://localhost:8080/",
          "height": 202
        },
        "id": "rIB64XMetGRE",
        "outputId": "2b342ddd-0de8-4033-aa69-8f74eb75db83"
      },
      "source": [
        "df.head(1)"
      ],
      "execution_count": 11,
      "outputs": [
        {
          "output_type": "execute_result",
          "data": {
            "text/html": [
              "<div>\n",
              "<style scoped>\n",
              "    .dataframe tbody tr th:only-of-type {\n",
              "        vertical-align: middle;\n",
              "    }\n",
              "\n",
              "    .dataframe tbody tr th {\n",
              "        vertical-align: top;\n",
              "    }\n",
              "\n",
              "    .dataframe thead th {\n",
              "        text-align: right;\n",
              "    }\n",
              "</style>\n",
              "<table border=\"1\" class=\"dataframe\">\n",
              "  <thead>\n",
              "    <tr style=\"text-align: right;\">\n",
              "      <th></th>\n",
              "      <th>Reference Number</th>\n",
              "      <th>Grid Ref: Easting</th>\n",
              "      <th>Grid Ref: Northing</th>\n",
              "      <th>Number of Vehicles</th>\n",
              "      <th>Accident Date</th>\n",
              "      <th>Time (24hr)</th>\n",
              "      <th>1st Road Class</th>\n",
              "      <th>1st Road Class &amp; No</th>\n",
              "      <th>Road Surface</th>\n",
              "      <th>Lighting Conditions</th>\n",
              "      <th>Weather Conditions</th>\n",
              "      <th>Local Authority</th>\n",
              "      <th>Type of Vehicle</th>\n",
              "      <th>Casualty Class</th>\n",
              "      <th>Casualty Severity</th>\n",
              "      <th>Sex of Casualty</th>\n",
              "      <th>Age of Casualty</th>\n",
              "    </tr>\n",
              "  </thead>\n",
              "  <tbody>\n",
              "    <tr>\n",
              "      <th>0</th>\n",
              "      <td>5110577</td>\n",
              "      <td>430660</td>\n",
              "      <td>430766</td>\n",
              "      <td>1</td>\n",
              "      <td>2018-01-01</td>\n",
              "      <td>03:44:00</td>\n",
              "      <td>Unclassified</td>\n",
              "      <td>U</td>\n",
              "      <td>Wet / Damp</td>\n",
              "      <td>Darkness: street lights present and lit</td>\n",
              "      <td>Fine without high winds</td>\n",
              "      <td>E08000035</td>\n",
              "      <td>Car</td>\n",
              "      <td>Vehicle or pillion passenger</td>\n",
              "      <td>Slight</td>\n",
              "      <td>Male</td>\n",
              "      <td>23</td>\n",
              "    </tr>\n",
              "  </tbody>\n",
              "</table>\n",
              "</div>"
            ],
            "text/plain": [
              "  Reference Number  Grid Ref: Easting  ...  Sex of Casualty  Age of Casualty\n",
              "0          5110577             430660  ...             Male               23\n",
              "\n",
              "[1 rows x 17 columns]"
            ]
          },
          "metadata": {
            "tags": []
          },
          "execution_count": 11
        }
      ]
    },
    {
      "cell_type": "code",
      "metadata": {
        "colab": {
          "base_uri": "https://localhost:8080/",
          "height": 306
        },
        "id": "xPmjFCDqXFpL",
        "outputId": "78636cb4-2ab6-41e6-babe-aeca5f854c6d"
      },
      "source": [
        "# loại bỏ các thuộc tính có nhiều giá trị trùng, thuộc tính về toạ độ, tên đường, ngày, giờ\n",
        "anotherDf = df.drop(['Local Authority', 'Reference Number', 'Grid Ref: Easting', 'Grid Ref: Northing', '1st Road Class & No', 'Accident Date', 'Time (24hr)'], axis=1)\n",
        "\n",
        "# rời rạc hoá Age + convert sang str\n",
        "anotherDf['Age of Casualty'] = pd.cut(anotherDf['Age of Casualty'], bins = 5, right=False)\n",
        "anotherDf['Age of Casualty'] = anotherDf['Age of Casualty'].astype(str)\n",
        "\n",
        "anotherDf.head()"
      ],
      "execution_count": 12,
      "outputs": [
        {
          "output_type": "execute_result",
          "data": {
            "text/html": [
              "<div>\n",
              "<style scoped>\n",
              "    .dataframe tbody tr th:only-of-type {\n",
              "        vertical-align: middle;\n",
              "    }\n",
              "\n",
              "    .dataframe tbody tr th {\n",
              "        vertical-align: top;\n",
              "    }\n",
              "\n",
              "    .dataframe thead th {\n",
              "        text-align: right;\n",
              "    }\n",
              "</style>\n",
              "<table border=\"1\" class=\"dataframe\">\n",
              "  <thead>\n",
              "    <tr style=\"text-align: right;\">\n",
              "      <th></th>\n",
              "      <th>Number of Vehicles</th>\n",
              "      <th>1st Road Class</th>\n",
              "      <th>Road Surface</th>\n",
              "      <th>Lighting Conditions</th>\n",
              "      <th>Weather Conditions</th>\n",
              "      <th>Type of Vehicle</th>\n",
              "      <th>Casualty Class</th>\n",
              "      <th>Casualty Severity</th>\n",
              "      <th>Sex of Casualty</th>\n",
              "      <th>Age of Casualty</th>\n",
              "    </tr>\n",
              "  </thead>\n",
              "  <tbody>\n",
              "    <tr>\n",
              "      <th>0</th>\n",
              "      <td>1</td>\n",
              "      <td>Unclassified</td>\n",
              "      <td>Wet / Damp</td>\n",
              "      <td>Darkness: street lights present and lit</td>\n",
              "      <td>Fine without high winds</td>\n",
              "      <td>Car</td>\n",
              "      <td>Vehicle or pillion passenger</td>\n",
              "      <td>Slight</td>\n",
              "      <td>Male</td>\n",
              "      <td>[19.8, 38.6)</td>\n",
              "    </tr>\n",
              "    <tr>\n",
              "      <th>1</th>\n",
              "      <td>1</td>\n",
              "      <td>Unclassified</td>\n",
              "      <td>Wet / Damp</td>\n",
              "      <td>Darkness: street lights present and lit</td>\n",
              "      <td>Fine without high winds</td>\n",
              "      <td>Car</td>\n",
              "      <td>Driver or rider</td>\n",
              "      <td>Slight</td>\n",
              "      <td>Male</td>\n",
              "      <td>[19.8, 38.6)</td>\n",
              "    </tr>\n",
              "    <tr>\n",
              "      <th>2</th>\n",
              "      <td>1</td>\n",
              "      <td>Unclassified</td>\n",
              "      <td>Wet / Damp</td>\n",
              "      <td>Darkness: street lights present and lit</td>\n",
              "      <td>Fine without high winds</td>\n",
              "      <td>Car</td>\n",
              "      <td>Vehicle or pillion passenger</td>\n",
              "      <td>Serious</td>\n",
              "      <td>Male</td>\n",
              "      <td>[19.8, 38.6)</td>\n",
              "    </tr>\n",
              "    <tr>\n",
              "      <th>3</th>\n",
              "      <td>2</td>\n",
              "      <td>A</td>\n",
              "      <td>Dry</td>\n",
              "      <td>Daylight: street lights present</td>\n",
              "      <td>Fine without high winds</td>\n",
              "      <td>Car</td>\n",
              "      <td>Driver or rider</td>\n",
              "      <td>Slight</td>\n",
              "      <td>Female</td>\n",
              "      <td>[38.6, 57.4)</td>\n",
              "    </tr>\n",
              "    <tr>\n",
              "      <th>4</th>\n",
              "      <td>2</td>\n",
              "      <td>Unclassified</td>\n",
              "      <td>Wet / Damp</td>\n",
              "      <td>Daylight: street lights present</td>\n",
              "      <td>Raining without high winds</td>\n",
              "      <td>Car</td>\n",
              "      <td>Vehicle or pillion passenger</td>\n",
              "      <td>Slight</td>\n",
              "      <td>Male</td>\n",
              "      <td>[1.0, 19.8)</td>\n",
              "    </tr>\n",
              "  </tbody>\n",
              "</table>\n",
              "</div>"
            ],
            "text/plain": [
              "   Number of Vehicles 1st Road Class  ... Sex of Casualty Age of Casualty\n",
              "0                   1   Unclassified  ...            Male    [19.8, 38.6)\n",
              "1                   1   Unclassified  ...            Male    [19.8, 38.6)\n",
              "2                   1   Unclassified  ...            Male    [19.8, 38.6)\n",
              "3                   2              A  ...          Female    [38.6, 57.4)\n",
              "4                   2   Unclassified  ...            Male     [1.0, 19.8)\n",
              "\n",
              "[5 rows x 10 columns]"
            ]
          },
          "metadata": {
            "tags": []
          },
          "execution_count": 12
        }
      ]
    },
    {
      "cell_type": "code",
      "metadata": {
        "id": "9x8GL29L51AX"
      },
      "source": [
        "# hàm bổ trợ\n",
        "# col_values is a dict, col_values[value] = attribute\n",
        "def getColValues(df):\n",
        "    col_values = {}\n",
        "    for col in df.columns:\n",
        "        values = df[col].value_counts().index.astype(str)\n",
        "        for value in values:\n",
        "            col_values[value] = col\n",
        "    return col_values\n",
        "\n",
        "col_values = getColValues(anotherDf)\n",
        "\n",
        "# counts is a dict, contains combination of value in attributes\n",
        "# itemSet is a freqItemSet (output of apriori or something else)\n",
        "def countValues(df, col_values, itemSet):\n",
        "    cols = []\n",
        "    df['tmp'] = ''\n",
        "    for item in itemSet:\n",
        "        colName = col_values[item]\n",
        "        cols.append(colName)\n",
        "        tmp = df[colName].astype(str)\n",
        "        if df['tmp'][0] == '':\n",
        "            df['tmp'] += tmp\n",
        "        else:\n",
        "            df['tmp'] = df['tmp'] + ' & ' + tmp\n",
        "\n",
        "    counts = df['tmp'].value_counts().to_dict()\n",
        "    df.drop(['tmp'], axis=1, inplace=True)\n",
        "    return counts, cols"
      ],
      "execution_count": 13,
      "outputs": []
    },
    {
      "cell_type": "code",
      "metadata": {
        "id": "w_T44vfGY4cX"
      },
      "source": [
        "# from mlxtend.preprocessing import TransactionEncoder\n",
        "# from mlxtend.frequent_patterns import apriori\n",
        "\n",
        "def getTransactions(df):\n",
        "    transactions = []\n",
        "    for i in range(0, df.shape[0]):\n",
        "        tmp = []\n",
        "        try:\n",
        "            tmp = set([str(df.values[i, j]) for j in range(df.shape[1])])\n",
        "            tmp.remove('nan')\n",
        "            tmp = list(tmp)\n",
        "        except:\n",
        "            tmp = [str(df.values[i, j]) for j in range(df.shape[1])]\n",
        "        transactions.append(tmp)\n",
        "\n",
        "    # te = TransactionEncoder()\n",
        "    # te_ary = te.fit(transactions).transform(transactions)\n",
        "    # df_transactions = pd.DataFrame(te_ary, columns=te.columns_)\n",
        "    # return df_transactions\n",
        "    return transactions\n",
        "\n",
        "def getFrequentItemsets(df, minSupp):\n",
        "    transactions = getTransactions(df)\n",
        "    # frequent_itemsets = apriori(transactions, min_support=minSupp, use_colnames=True)\n",
        "    # frequent_itemsets['length'] = frequent_itemsets['itemsets'].apply(lambda x: len(x))\n",
        "\n",
        "    frequent_itemsets = pd.DataFrame(apriori(transactions, min_support = minSupp))\n",
        "    return frequent_itemsets\n",
        "\n",
        "freqItemsets = getFrequentItemsets(anotherDf, 0.5)\n",
        "freqItemsets.to_csv('bla.csv')"
      ],
      "execution_count": 14,
      "outputs": []
    },
    {
      "cell_type": "markdown",
      "metadata": {
        "id": "hX9vMtdfqzfQ"
      },
      "source": [
        "- Thực hiện phân tích mô tả, ta tiến hành rút trích các đặc trưng từ 25 tập phổ biến trên. Các đặc trưng thường xoay quanh mức độ nặng nhẹ của vụ tai nạn hoặc mức độ phổ biến của đặc trưng\n",
        "    1. Itemset 1, 2, 4 và 5: Các vụ tai nạn thường:\n",
        "        - Do ô tô gây ra (supp=0.65)\n",
        "        - Điều kiện ánh sáng: Buổi sáng, có đèn đường (supp=0.73)\n",
        "        - Tình trạng thời tiết thường là ổn định, không có gió to (supp=0.87)\n",
        "        - Tình trạng mặt đường thường là khô ráo (supp=0.74)\n",
        "        - Các điều kiện bên trên là điều kiện thuận lợi cho giao thông. Do đó, có thể kết luận rằng tai nạn xảy ra, phần đa là do yếu tố người điều khiển phương tiện\n",
        "    2. Itemset 12: Các vụ tai nạn ô tô thường là nhẹ (supp=0.57, conf=0.86)\n",
        "    3. Itemset 23: Nếu tình trạng thời tiết ổn định (và không có gió to) và điều kiện buổi sáng, có đèn đường thì các vụ tai nạn xảy ra với mức độ nhẹ (supp=0.55, conf=0.83)\n",
        "    4. Itemset 24: Nếu tình trạng thời tiết ổn định (và không có gió to) và tình trạng mặt đường khô ráo thì các vụ tai nạn xảy ra với mức độ nhẹ (supp=0.58, conf=0.83)"
      ]
    },
    {
      "cell_type": "markdown",
      "metadata": {
        "id": "QyE36E56SPBu"
      },
      "source": [
        "## Các insight khác\n",
        "\n"
      ]
    },
    {
      "cell_type": "markdown",
      "metadata": {
        "id": "sg-uC-o96pp7"
      },
      "source": [
        "### Liên hệ giữa độ tuổi, giới tính và mức độ nghiêm trọng của tai nạn"
      ]
    },
    {
      "cell_type": "code",
      "metadata": {
        "colab": {
          "base_uri": "https://localhost:8080/",
          "height": 376
        },
        "id": "sKcSB8jikpvR",
        "outputId": "48eb3b8d-3723-4f2e-ff15-6f4d994ddf95"
      },
      "source": [
        "x_axis = makeXAxis(start=0, step=5, end=np.max(df['Age of Casualty']))\n",
        "y_axis = makeYAxis(df['Age of Casualty'],x_axis)\n",
        "draw(x_axis, y_axis, 'Thống kê độ tuổi tai nạn', 'Tuổi', 'Số lượng', (10,5))"
      ],
      "execution_count": 15,
      "outputs": [
        {
          "output_type": "display_data",
          "data": {
            "image/png": "[encoded data removed]",
            "text/plain": [
              "<Figure size 720x360 with 1 Axes>"
            ]
          },
          "metadata": {
            "tags": [],
            "needs_background": "light"
          }
        }
      ]
    },
    {
      "cell_type": "markdown",
      "metadata": {
        "id": "E2HIFQsN9dQu"
      },
      "source": [
        "- Quan sát biểu đồ trên, ta thấy độ tuổi gây tai nạn nhiều nhất là từ 20 đến 40 tuổi. Vậy các khoảng ngoài [20,40] chứa những insight gì?\n",
        "- Tiếp tục khảo sát yếu tố độ tuổi với các yếu tố khác"
      ]
    },
    {
      "cell_type": "code",
      "metadata": {
        "colab": {
          "base_uri": "https://localhost:8080/",
          "height": 452
        },
        "id": "VWw28-Qw91hg",
        "outputId": "7d7f045c-581d-442b-9c57-fa928787fef6"
      },
      "source": [
        "casualty_class = df['Casualty Class'].unique()\n",
        "\n",
        "fig, axes = plt.subplots(1, 3, figsize=(14, 6))\n",
        "fig.subplots_adjust(wspace=0.4)\n",
        "fig.suptitle('Biểu diễn quan hệ giữa độ tuổi, đối tượng bị tai nạn và mức độ nghiêm trọng của tai nạn')\n",
        "\n",
        "for i in range(len(casualty_class)):\n",
        "    sns.boxenplot(data=df[df['Casualty Class'] == casualty_class[i]],\n",
        "                x='Casualty Severity', y='Age of Casualty', hue='Sex of Casualty', ax=axes[i])\n",
        "    axes[i].get_legend().remove()\n",
        "    axes[i].set_title(casualty_class[i])\n",
        "\n",
        "handles, labels = axes[0].get_legend_handles_labels()\n",
        "fig.legend(handles, labels)"
      ],
      "execution_count": 16,
      "outputs": [
        {
          "output_type": "execute_result",
          "data": {
            "text/plain": [
              "<matplotlib.legend.Legend at 0x7f60cbbb7dd0>"
            ]
          },
          "metadata": {
            "tags": []
          },
          "execution_count": 16
        },
        {
          "output_type": "display_data",
          "data": {
            "image/png": "[encoded data removed]",
            "text/plain": [
              "<Figure size 1008x432 with 3 Axes>"
            ]
          },
          "metadata": {
            "tags": [],
            "needs_background": "light"
          }
        }
      ]
    },
    {
      "cell_type": "markdown",
      "metadata": {
        "id": "3B6wpucjoSVe"
      },
      "source": [
        "- Quan sát cả 2 biểu đồ trên, có thể kết luận rằng\n",
        "    - Độ tuổi dễ gây tai nạn giao động từ 15 đến 50\n",
        "    - Trong đó\n",
        "        - Đối với đối tượng tai nạn là hành khách đi cùng, nữ chiếm đa số; độ tuổi trung bình bị tai nạn của nam thấp hơn của nữ. Do điều kiện sức khoẻ cũng như khả năng phản ứng của nữ thường thấp hơn nam nên số ca nữ thường nhiều hơn.\n",
        "        - Đối với đối tượng tai nạn là người điều khiển phương tiện, nam chiếm đa số; số ca tử vong của nam (chỉ xuất hiện ở độ tuổi từ 20-40) gấp nhiều lần số lượng nữ (chỉ xuất hiện ở độ tuổi 80). Dễ thấy ở nam giới, độ tuổi này thường có cuộc sống vội vã. Do đó, cần chú ý hơn khi tham gia giao thông.\n",
        "        - Đối với người đi bộ, số ca tử vong của nữ gần như gấp 2 lần số ca tử vong của nam, độ tuổi tai nạn của nữ giới giao động từ 60 trở lên. Do đó, đối tượng nữ là người già cần phải chú ý khi tham gia giao thông hoặc khi ra đường, cần có người bảo hộ đi cùng.\n",
        "    - Đặc biệt, đối với đối tượng tai nạn là người điều khiển phương tiện, xuất hiện các ca tử vong ở nam giới tầm 12 tuổi và các ca nghiêm trọng ở nam giới trong tầm dưới 10 tuổi. Phụ huynh cần chú ý đến hành vi của trẻ trong độ tuổi này để tránh tai nạn đáng tiếc."
      ]
    },
    {
      "cell_type": "markdown",
      "metadata": {
        "id": "lhH_yRN161A5"
      },
      "source": [
        "### Liên hệ giữa loại đường, điều kiện sáng với mức độ nghiêm trọng"
      ]
    },
    {
      "cell_type": "code",
      "metadata": {
        "colab": {
          "base_uri": "https://localhost:8080/"
        },
        "id": "--qCAtt-O6zE",
        "outputId": "39e00ccf-36ac-41a5-86e8-25e53aaa52b8"
      },
      "source": [
        "anotherDf['Casualty Severity'].value_counts()"
      ],
      "execution_count": 18,
      "outputs": [
        {
          "output_type": "execute_result",
          "data": {
            "text/plain": [
              "Slight     3208\n",
              "Serious     644\n",
              "Fatal        48\n",
              "Name: Casualty Severity, dtype: int64"
            ]
          },
          "metadata": {
            "tags": []
          },
          "execution_count": 18
        }
      ]
    },
    {
      "cell_type": "code",
      "metadata": {
        "colab": {
          "base_uri": "https://localhost:8080/",
          "height": 1000
        },
        "id": "rsvZopZW9L8e",
        "outputId": "f154c8a4-7702-47b1-853f-26324ddea718"
      },
      "source": [
        "light_conditions = anotherDf['Lighting Conditions'].unique()\n",
        "figrows = 3; figcols = 2\n",
        "\n",
        "fig, axes = plt.subplots(figrows, figcols, figsize=(15, 14))\n",
        "fig.tight_layout()\n",
        "fig.subplots_adjust(hspace=0.2, wspace=0.2)\n",
        "for i in range(len(anotherDf['Road Surface'].unique())):\n",
        "    sns.countplot(data=anotherDf[anotherDf['Lighting Conditions'] == light_conditions[i]], x='1st Road Class',\n",
        "                 hue='Casualty Severity', ax=axes[i // figcols, i % figcols])\n",
        "    axes[i // figcols, i % figcols].get_legend().remove()\n",
        "    axes[i // figcols, i % figcols].set_title(light_conditions[i])\n",
        "    axes[i // figcols, i % figcols].set_xticklabels(anotherDf['1st Road Class'].unique())\n",
        "    \n",
        "handles, labels = axes[0, 0].get_legend_handles_labels()\n",
        "fig.legend(handles, labels)\n",
        "fig.delaxes(axes[-1, -1])"
      ],
      "execution_count": 53,
      "outputs": [
        {
          "output_type": "display_data",
          "data": {
            "image/png": "[encoded data removed]",
            "text/plain": [
              "<Figure size 1080x1008 with 5 Axes>"
            ]
          },
          "metadata": {
            "tags": [],
            "needs_background": "light"
          }
        }
      ]
    },
    {
      "cell_type": "markdown",
      "metadata": {
        "id": "ZRRq9Ng2CicJ"
      },
      "source": [
        "- Biểu đồ trên khảo sát mức độ nghiêm trọng của các vụ tai nạn xảy ra trên các loại đường dựa theo điều kiện ánh sáng\n",
        "- Quan sát biểu đồ, ta có được một vài đặc trưng sau\n",
        "    - Đối với đường 'Unclassified', "
      ]
    }
  ]
}