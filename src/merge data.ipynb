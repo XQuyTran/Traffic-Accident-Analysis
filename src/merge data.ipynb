{
 "cells": [
  {
   "cell_type": "code",
   "execution_count": 13,
   "id": "d52653f5",
   "metadata": {},
   "outputs": [],
   "source": [
    "import pandas as pd\n",
    "import numpy as np "
   ]
  },
  {
   "cell_type": "markdown",
   "id": "fe7d3908",
   "metadata": {},
   "source": [
    "# Đọc dữ liệu"
   ]
  },
  {
   "cell_type": "code",
   "execution_count": 14,
   "id": "f3dc5723",
   "metadata": {},
   "outputs": [],
   "source": [
    "df_18 = pd.read_csv('../Data/data_2018.csv')\n",
    "df_19 = pd.read_csv('../Data/data_2019.csv')"
   ]
  },
  {
   "cell_type": "code",
   "execution_count": 15,
   "id": "7ee1b28b",
   "metadata": {},
   "outputs": [
    {
     "output_type": "execute_result",
     "data": {
      "text/plain": [
       "     Accident Fields_Reference Number  Grid Ref: Easting  Grid Ref: Northing  \\\n",
       "0                             51B0230             433936              428874   \n",
       "1                             51B0349             430076              433872   \n",
       "2                             51B0349             430076              433872   \n",
       "3                             51B0349             430076              433872   \n",
       "4                             51B0349             430076              433872   \n",
       "...                               ...                ...                 ...   \n",
       "1990                          5CV0814             432096              427519   \n",
       "1991                          5CV0814             432096              427519   \n",
       "1992                          5CV0814             432096              427519   \n",
       "1993                          5CV0814             432096              427519   \n",
       "1994                          5CV1097             429895              433375   \n",
       "\n",
       "      Number of Vehicles Accident Date  Time (24hr)  1st Road Class  \\\n",
       "0                      1    11/01/2018          700               6   \n",
       "1                      1    11/01/2018          855               6   \n",
       "2                      1    11/01/2018          855               6   \n",
       "3                      1    11/01/2018          855               6   \n",
       "4                      1    11/01/2018          855               6   \n",
       "...                  ...           ...          ...             ...   \n",
       "1990                   2    31/12/2018         1345               1   \n",
       "1991                   2    31/12/2018         1345               1   \n",
       "1992                   2    31/12/2018         1345               1   \n",
       "1993                   2    31/12/2018         1345               1   \n",
       "1994                   1    31/12/2018         1608               6   \n",
       "\n",
       "     1st Road Class & No  Road Surface  Lighting Conditions  ...  \\\n",
       "0                      U             1                    4  ...   \n",
       "1                      U             2                    1  ...   \n",
       "2                      U             2                    1  ...   \n",
       "3                      U             2                    1  ...   \n",
       "4                      U             2                    1  ...   \n",
       "...                  ...           ...                  ...  ...   \n",
       "1990                  M1             2                    1  ...   \n",
       "1991                  M1             2                    1  ...   \n",
       "1992                  M1             2                    1  ...   \n",
       "1993                  M1             2                    1  ...   \n",
       "1994                   U             1                    4  ...   \n",
       "\n",
       "      Local Authority Vehicle Fields_Reference Number Vehicle Number  \\\n",
       "0           E08000035                         51B0230              1   \n",
       "1           E08000035                         51B0349              1   \n",
       "2           E08000035                         51B0349              1   \n",
       "3           E08000035                         51B0349              1   \n",
       "4           E08000035                         51B0349              1   \n",
       "...               ...                             ...            ...   \n",
       "1990        E08000035                         5CV0814              2   \n",
       "1991        E08000035                         5CV0814              2   \n",
       "1992        E08000035                         5CV0814              2   \n",
       "1993        E08000035                         5CV0814              2   \n",
       "1994        E08000035                         5CV1097              1   \n",
       "\n",
       "      Type of Vehicle  Casualty Fields_Reference Number Casualty Veh No  \\\n",
       "0                   9                           51B0230               1   \n",
       "1                  11                           51B0349               1   \n",
       "2                  11                           51B0349               1   \n",
       "3                  11                           51B0349               1   \n",
       "4                  11                           51B0349               1   \n",
       "...               ...                               ...             ...   \n",
       "1990                9                           5CV0814               2   \n",
       "1991                9                           5CV0814               2   \n",
       "1992                9                           5CV0814               2   \n",
       "1993                9                           5CV0814               2   \n",
       "1994               11                           5CV1097               1   \n",
       "\n",
       "      Casualty Class  Casualty Severity  Sex of Casualty  Age of Casualty  \n",
       "0                  3                  3                2               87  \n",
       "1                  2                  3                2               60  \n",
       "2                  2                  3                2               51  \n",
       "3                  2                  3                2               50  \n",
       "4                  2                  3                2               51  \n",
       "...              ...                ...              ...              ...  \n",
       "1990               1                  2                1               42  \n",
       "1991               2                  3                1               36  \n",
       "1992               2                  3                2                9  \n",
       "1993               2                  3                2                9  \n",
       "1994               3                  3                1               18  \n",
       "\n",
       "[1995 rows x 21 columns]"
      ],
      "text/html": "<div>\n<style scoped>\n    .dataframe tbody tr th:only-of-type {\n        vertical-align: middle;\n    }\n\n    .dataframe tbody tr th {\n        vertical-align: top;\n    }\n\n    .dataframe thead th {\n        text-align: right;\n    }\n</style>\n<table border=\"1\" class=\"dataframe\">\n  <thead>\n    <tr style=\"text-align: right;\">\n      <th></th>\n      <th>Accident Fields_Reference Number</th>\n      <th>Grid Ref: Easting</th>\n      <th>Grid Ref: Northing</th>\n      <th>Number of Vehicles</th>\n      <th>Accident Date</th>\n      <th>Time (24hr)</th>\n      <th>1st Road Class</th>\n      <th>1st Road Class &amp; No</th>\n      <th>Road Surface</th>\n      <th>Lighting Conditions</th>\n      <th>...</th>\n      <th>Local Authority</th>\n      <th>Vehicle Fields_Reference Number</th>\n      <th>Vehicle Number</th>\n      <th>Type of Vehicle</th>\n      <th>Casualty Fields_Reference Number</th>\n      <th>Casualty Veh No</th>\n      <th>Casualty Class</th>\n      <th>Casualty Severity</th>\n      <th>Sex of Casualty</th>\n      <th>Age of Casualty</th>\n    </tr>\n  </thead>\n  <tbody>\n    <tr>\n      <th>0</th>\n      <td>51B0230</td>\n      <td>433936</td>\n      <td>428874</td>\n      <td>1</td>\n      <td>11/01/2018</td>\n      <td>700</td>\n      <td>6</td>\n      <td>U</td>\n      <td>1</td>\n      <td>4</td>\n      <td>...</td>\n      <td>E08000035</td>\n      <td>51B0230</td>\n      <td>1</td>\n      <td>9</td>\n      <td>51B0230</td>\n      <td>1</td>\n      <td>3</td>\n      <td>3</td>\n      <td>2</td>\n      <td>87</td>\n    </tr>\n    <tr>\n      <th>1</th>\n      <td>51B0349</td>\n      <td>430076</td>\n      <td>433872</td>\n      <td>1</td>\n      <td>11/01/2018</td>\n      <td>855</td>\n      <td>6</td>\n      <td>U</td>\n      <td>2</td>\n      <td>1</td>\n      <td>...</td>\n      <td>E08000035</td>\n      <td>51B0349</td>\n      <td>1</td>\n      <td>11</td>\n      <td>51B0349</td>\n      <td>1</td>\n      <td>2</td>\n      <td>3</td>\n      <td>2</td>\n      <td>60</td>\n    </tr>\n    <tr>\n      <th>2</th>\n      <td>51B0349</td>\n      <td>430076</td>\n      <td>433872</td>\n      <td>1</td>\n      <td>11/01/2018</td>\n      <td>855</td>\n      <td>6</td>\n      <td>U</td>\n      <td>2</td>\n      <td>1</td>\n      <td>...</td>\n      <td>E08000035</td>\n      <td>51B0349</td>\n      <td>1</td>\n      <td>11</td>\n      <td>51B0349</td>\n      <td>1</td>\n      <td>2</td>\n      <td>3</td>\n      <td>2</td>\n      <td>51</td>\n    </tr>\n    <tr>\n      <th>3</th>\n      <td>51B0349</td>\n      <td>430076</td>\n      <td>433872</td>\n      <td>1</td>\n      <td>11/01/2018</td>\n      <td>855</td>\n      <td>6</td>\n      <td>U</td>\n      <td>2</td>\n      <td>1</td>\n      <td>...</td>\n      <td>E08000035</td>\n      <td>51B0349</td>\n      <td>1</td>\n      <td>11</td>\n      <td>51B0349</td>\n      <td>1</td>\n      <td>2</td>\n      <td>3</td>\n      <td>2</td>\n      <td>50</td>\n    </tr>\n    <tr>\n      <th>4</th>\n      <td>51B0349</td>\n      <td>430076</td>\n      <td>433872</td>\n      <td>1</td>\n      <td>11/01/2018</td>\n      <td>855</td>\n      <td>6</td>\n      <td>U</td>\n      <td>2</td>\n      <td>1</td>\n      <td>...</td>\n      <td>E08000035</td>\n      <td>51B0349</td>\n      <td>1</td>\n      <td>11</td>\n      <td>51B0349</td>\n      <td>1</td>\n      <td>2</td>\n      <td>3</td>\n      <td>2</td>\n      <td>51</td>\n    </tr>\n    <tr>\n      <th>...</th>\n      <td>...</td>\n      <td>...</td>\n      <td>...</td>\n      <td>...</td>\n      <td>...</td>\n      <td>...</td>\n      <td>...</td>\n      <td>...</td>\n      <td>...</td>\n      <td>...</td>\n      <td>...</td>\n      <td>...</td>\n      <td>...</td>\n      <td>...</td>\n      <td>...</td>\n      <td>...</td>\n      <td>...</td>\n      <td>...</td>\n      <td>...</td>\n      <td>...</td>\n      <td>...</td>\n    </tr>\n    <tr>\n      <th>1990</th>\n      <td>5CV0814</td>\n      <td>432096</td>\n      <td>427519</td>\n      <td>2</td>\n      <td>31/12/2018</td>\n      <td>1345</td>\n      <td>1</td>\n      <td>M1</td>\n      <td>2</td>\n      <td>1</td>\n      <td>...</td>\n      <td>E08000035</td>\n      <td>5CV0814</td>\n      <td>2</td>\n      <td>9</td>\n      <td>5CV0814</td>\n      <td>2</td>\n      <td>1</td>\n      <td>2</td>\n      <td>1</td>\n      <td>42</td>\n    </tr>\n    <tr>\n      <th>1991</th>\n      <td>5CV0814</td>\n      <td>432096</td>\n      <td>427519</td>\n      <td>2</td>\n      <td>31/12/2018</td>\n      <td>1345</td>\n      <td>1</td>\n      <td>M1</td>\n      <td>2</td>\n      <td>1</td>\n      <td>...</td>\n      <td>E08000035</td>\n      <td>5CV0814</td>\n      <td>2</td>\n      <td>9</td>\n      <td>5CV0814</td>\n      <td>2</td>\n      <td>2</td>\n      <td>3</td>\n      <td>1</td>\n      <td>36</td>\n    </tr>\n    <tr>\n      <th>1992</th>\n      <td>5CV0814</td>\n      <td>432096</td>\n      <td>427519</td>\n      <td>2</td>\n      <td>31/12/2018</td>\n      <td>1345</td>\n      <td>1</td>\n      <td>M1</td>\n      <td>2</td>\n      <td>1</td>\n      <td>...</td>\n      <td>E08000035</td>\n      <td>5CV0814</td>\n      <td>2</td>\n      <td>9</td>\n      <td>5CV0814</td>\n      <td>2</td>\n      <td>2</td>\n      <td>3</td>\n      <td>2</td>\n      <td>9</td>\n    </tr>\n    <tr>\n      <th>1993</th>\n      <td>5CV0814</td>\n      <td>432096</td>\n      <td>427519</td>\n      <td>2</td>\n      <td>31/12/2018</td>\n      <td>1345</td>\n      <td>1</td>\n      <td>M1</td>\n      <td>2</td>\n      <td>1</td>\n      <td>...</td>\n      <td>E08000035</td>\n      <td>5CV0814</td>\n      <td>2</td>\n      <td>9</td>\n      <td>5CV0814</td>\n      <td>2</td>\n      <td>2</td>\n      <td>3</td>\n      <td>2</td>\n      <td>9</td>\n    </tr>\n    <tr>\n      <th>1994</th>\n      <td>5CV1097</td>\n      <td>429895</td>\n      <td>433375</td>\n      <td>1</td>\n      <td>31/12/2018</td>\n      <td>1608</td>\n      <td>6</td>\n      <td>U</td>\n      <td>1</td>\n      <td>4</td>\n      <td>...</td>\n      <td>E08000035</td>\n      <td>5CV1097</td>\n      <td>1</td>\n      <td>11</td>\n      <td>5CV1097</td>\n      <td>1</td>\n      <td>3</td>\n      <td>3</td>\n      <td>1</td>\n      <td>18</td>\n    </tr>\n  </tbody>\n</table>\n<p>1995 rows × 21 columns</p>\n</div>"
     },
     "metadata": {},
     "execution_count": 15
    }
   ],
   "source": [
    "df_18"
   ]
  },
  {
   "cell_type": "code",
   "execution_count": 16,
   "id": "8dc26214",
   "metadata": {},
   "outputs": [
    {
     "output_type": "execute_result",
     "data": {
      "text/plain": [
       "     Reference Number  Grid Ref: Easting  Grid Ref: Northing  \\\n",
       "0             58F1730             436147              434957   \n",
       "1             58F1730             436147              434957   \n",
       "2             58F1730             436147              434957   \n",
       "3             58F1730             436147              434957   \n",
       "4             58F1730             436147              434957   \n",
       "...               ...                ...                 ...   \n",
       "1902          6CU0181             442094              434619   \n",
       "1903          6CU0363             423019              437653   \n",
       "1904          6CV0723             436853              442515   \n",
       "1905          6CV1518             421466              433999   \n",
       "1906          6CV1518             421466              433999   \n",
       "\n",
       "      Number of Vehicles Accident Date  Time (24hr)  1st Road Class  \\\n",
       "0                      2    15/08/2019         1812               3   \n",
       "1                      2    15/08/2019         1812               3   \n",
       "2                      2    15/08/2019         1812               3   \n",
       "3                      2    15/08/2019         1812               3   \n",
       "4                      2    15/08/2019         1812               3   \n",
       "...                  ...           ...          ...             ...   \n",
       "1902                   1    30/12/2019          422               1   \n",
       "1903                   1    30/12/2019         1000               3   \n",
       "1904                   2    31/12/2019         1340               3   \n",
       "1905                   3    31/12/2019         1640               3   \n",
       "1906                   3    31/12/2019         1640               3   \n",
       "\n",
       "     1st Road Class & No  Road Surface  Lighting Conditions  \\\n",
       "0                  A6120             1                    1   \n",
       "1                  A6120             1                    1   \n",
       "2                  A6120             1                    1   \n",
       "3                  A6120             1                    1   \n",
       "4                  A6120             1                    1   \n",
       "...                  ...           ...                  ...   \n",
       "1902                  M1             2                    4   \n",
       "1903                 A65             4                    1   \n",
       "1904                 A58             1                    1   \n",
       "1905                A647             1                    4   \n",
       "1906                A647             1                    4   \n",
       "\n",
       "      Weather Conditions Local Authority  Vehicle Number  Type of Vehicle  \\\n",
       "0                      1       E08000035               2               11   \n",
       "1                      1       E08000035               2               11   \n",
       "2                      1       E08000035               2               11   \n",
       "3                      1       E08000035               2               11   \n",
       "4                      1       E08000035               2               11   \n",
       "...                  ...             ...             ...              ...   \n",
       "1902                   4       E08000035               1                9   \n",
       "1903                   1       E08000035               1                5   \n",
       "1904                   1       E08000035               2                1   \n",
       "1905                   1       E08000035               2                9   \n",
       "1906                   1       E08000035               2                9   \n",
       "\n",
       "      Casualty Class  Casualty Severity  Sex of Casualty  Age of Casualty  \n",
       "0                  2                  3                2                6  \n",
       "1                  2                  3                1                9  \n",
       "2                  2                  3                2               39  \n",
       "3                  2                  3                1                5  \n",
       "4                  2                  3                2                8  \n",
       "...              ...                ...              ...              ...  \n",
       "1902               1                  3                1               27  \n",
       "1903               1                  2                1               36  \n",
       "1904               1                  2                1               59  \n",
       "1905               1                  3                1               41  \n",
       "1906               2                  3                1               26  \n",
       "\n",
       "[1907 rows x 18 columns]"
      ],
      "text/html": "<div>\n<style scoped>\n    .dataframe tbody tr th:only-of-type {\n        vertical-align: middle;\n    }\n\n    .dataframe tbody tr th {\n        vertical-align: top;\n    }\n\n    .dataframe thead th {\n        text-align: right;\n    }\n</style>\n<table border=\"1\" class=\"dataframe\">\n  <thead>\n    <tr style=\"text-align: right;\">\n      <th></th>\n      <th>Reference Number</th>\n      <th>Grid Ref: Easting</th>\n      <th>Grid Ref: Northing</th>\n      <th>Number of Vehicles</th>\n      <th>Accident Date</th>\n      <th>Time (24hr)</th>\n      <th>1st Road Class</th>\n      <th>1st Road Class &amp; No</th>\n      <th>Road Surface</th>\n      <th>Lighting Conditions</th>\n      <th>Weather Conditions</th>\n      <th>Local Authority</th>\n      <th>Vehicle Number</th>\n      <th>Type of Vehicle</th>\n      <th>Casualty Class</th>\n      <th>Casualty Severity</th>\n      <th>Sex of Casualty</th>\n      <th>Age of Casualty</th>\n    </tr>\n  </thead>\n  <tbody>\n    <tr>\n      <th>0</th>\n      <td>58F1730</td>\n      <td>436147</td>\n      <td>434957</td>\n      <td>2</td>\n      <td>15/08/2019</td>\n      <td>1812</td>\n      <td>3</td>\n      <td>A6120</td>\n      <td>1</td>\n      <td>1</td>\n      <td>1</td>\n      <td>E08000035</td>\n      <td>2</td>\n      <td>11</td>\n      <td>2</td>\n      <td>3</td>\n      <td>2</td>\n      <td>6</td>\n    </tr>\n    <tr>\n      <th>1</th>\n      <td>58F1730</td>\n      <td>436147</td>\n      <td>434957</td>\n      <td>2</td>\n      <td>15/08/2019</td>\n      <td>1812</td>\n      <td>3</td>\n      <td>A6120</td>\n      <td>1</td>\n      <td>1</td>\n      <td>1</td>\n      <td>E08000035</td>\n      <td>2</td>\n      <td>11</td>\n      <td>2</td>\n      <td>3</td>\n      <td>1</td>\n      <td>9</td>\n    </tr>\n    <tr>\n      <th>2</th>\n      <td>58F1730</td>\n      <td>436147</td>\n      <td>434957</td>\n      <td>2</td>\n      <td>15/08/2019</td>\n      <td>1812</td>\n      <td>3</td>\n      <td>A6120</td>\n      <td>1</td>\n      <td>1</td>\n      <td>1</td>\n      <td>E08000035</td>\n      <td>2</td>\n      <td>11</td>\n      <td>2</td>\n      <td>3</td>\n      <td>2</td>\n      <td>39</td>\n    </tr>\n    <tr>\n      <th>3</th>\n      <td>58F1730</td>\n      <td>436147</td>\n      <td>434957</td>\n      <td>2</td>\n      <td>15/08/2019</td>\n      <td>1812</td>\n      <td>3</td>\n      <td>A6120</td>\n      <td>1</td>\n      <td>1</td>\n      <td>1</td>\n      <td>E08000035</td>\n      <td>2</td>\n      <td>11</td>\n      <td>2</td>\n      <td>3</td>\n      <td>1</td>\n      <td>5</td>\n    </tr>\n    <tr>\n      <th>4</th>\n      <td>58F1730</td>\n      <td>436147</td>\n      <td>434957</td>\n      <td>2</td>\n      <td>15/08/2019</td>\n      <td>1812</td>\n      <td>3</td>\n      <td>A6120</td>\n      <td>1</td>\n      <td>1</td>\n      <td>1</td>\n      <td>E08000035</td>\n      <td>2</td>\n      <td>11</td>\n      <td>2</td>\n      <td>3</td>\n      <td>2</td>\n      <td>8</td>\n    </tr>\n    <tr>\n      <th>...</th>\n      <td>...</td>\n      <td>...</td>\n      <td>...</td>\n      <td>...</td>\n      <td>...</td>\n      <td>...</td>\n      <td>...</td>\n      <td>...</td>\n      <td>...</td>\n      <td>...</td>\n      <td>...</td>\n      <td>...</td>\n      <td>...</td>\n      <td>...</td>\n      <td>...</td>\n      <td>...</td>\n      <td>...</td>\n      <td>...</td>\n    </tr>\n    <tr>\n      <th>1902</th>\n      <td>6CU0181</td>\n      <td>442094</td>\n      <td>434619</td>\n      <td>1</td>\n      <td>30/12/2019</td>\n      <td>422</td>\n      <td>1</td>\n      <td>M1</td>\n      <td>2</td>\n      <td>4</td>\n      <td>4</td>\n      <td>E08000035</td>\n      <td>1</td>\n      <td>9</td>\n      <td>1</td>\n      <td>3</td>\n      <td>1</td>\n      <td>27</td>\n    </tr>\n    <tr>\n      <th>1903</th>\n      <td>6CU0363</td>\n      <td>423019</td>\n      <td>437653</td>\n      <td>1</td>\n      <td>30/12/2019</td>\n      <td>1000</td>\n      <td>3</td>\n      <td>A65</td>\n      <td>4</td>\n      <td>1</td>\n      <td>1</td>\n      <td>E08000035</td>\n      <td>1</td>\n      <td>5</td>\n      <td>1</td>\n      <td>2</td>\n      <td>1</td>\n      <td>36</td>\n    </tr>\n    <tr>\n      <th>1904</th>\n      <td>6CV0723</td>\n      <td>436853</td>\n      <td>442515</td>\n      <td>2</td>\n      <td>31/12/2019</td>\n      <td>1340</td>\n      <td>3</td>\n      <td>A58</td>\n      <td>1</td>\n      <td>1</td>\n      <td>1</td>\n      <td>E08000035</td>\n      <td>2</td>\n      <td>1</td>\n      <td>1</td>\n      <td>2</td>\n      <td>1</td>\n      <td>59</td>\n    </tr>\n    <tr>\n      <th>1905</th>\n      <td>6CV1518</td>\n      <td>421466</td>\n      <td>433999</td>\n      <td>3</td>\n      <td>31/12/2019</td>\n      <td>1640</td>\n      <td>3</td>\n      <td>A647</td>\n      <td>1</td>\n      <td>4</td>\n      <td>1</td>\n      <td>E08000035</td>\n      <td>2</td>\n      <td>9</td>\n      <td>1</td>\n      <td>3</td>\n      <td>1</td>\n      <td>41</td>\n    </tr>\n    <tr>\n      <th>1906</th>\n      <td>6CV1518</td>\n      <td>421466</td>\n      <td>433999</td>\n      <td>3</td>\n      <td>31/12/2019</td>\n      <td>1640</td>\n      <td>3</td>\n      <td>A647</td>\n      <td>1</td>\n      <td>4</td>\n      <td>1</td>\n      <td>E08000035</td>\n      <td>2</td>\n      <td>9</td>\n      <td>2</td>\n      <td>3</td>\n      <td>1</td>\n      <td>26</td>\n    </tr>\n  </tbody>\n</table>\n<p>1907 rows × 18 columns</p>\n</div>"
     },
     "metadata": {},
     "execution_count": 16
    }
   ],
   "source": [
    "df_19"
   ]
  },
  {
   "cell_type": "markdown",
   "id": "2db38638",
   "metadata": {},
   "source": [
    "# Kiểm tra các cột của 2 tập dữ liệu"
   ]
  },
  {
   "cell_type": "code",
   "execution_count": 17,
   "id": "9be1d5d2",
   "metadata": {},
   "outputs": [
    {
     "output_type": "stream",
     "name": "stdout",
     "text": [
      "Index(['Accident Fields_Reference Number', 'Grid Ref: Easting',\n       'Grid Ref: Northing', 'Number of Vehicles', 'Accident Date',\n       'Time (24hr)', '1st Road Class', '1st Road Class & No', 'Road Surface',\n       'Lighting Conditions', 'Weather Conditions', 'Local Authority',\n       'Vehicle Fields_Reference Number', 'Vehicle Number', 'Type of Vehicle',\n       'Casualty Fields_Reference Number', 'Casualty Veh No', 'Casualty Class',\n       'Casualty Severity', 'Sex of Casualty', 'Age of Casualty'],\n      dtype='object')\nIndex(['Reference Number', 'Grid Ref: Easting', 'Grid Ref: Northing',\n       'Number of Vehicles', 'Accident Date', 'Time (24hr)', '1st Road Class',\n       '1st Road Class & No', 'Road Surface', 'Lighting Conditions',\n       'Weather Conditions', 'Local Authority', 'Vehicle Number',\n       'Type of Vehicle', 'Casualty Class', 'Casualty Severity',\n       'Sex of Casualty', 'Age of Casualty'],\n      dtype='object')\n"
     ]
    }
   ],
   "source": [
    "print(df_18.columns)\n",
    "print(df_19.columns)"
   ]
  },
  {
   "cell_type": "markdown",
   "id": "ae259d86",
   "metadata": {},
   "source": [
    "Kiểm tra giá trị giống nhau ở các cột nghi vấn"
   ]
  },
  {
   "cell_type": "code",
   "execution_count": 18,
   "id": "604a4712",
   "metadata": {},
   "outputs": [
    {
     "output_type": "execute_result",
     "data": {
      "text/plain": [
       "True    1995\n",
       "dtype: int64"
      ]
     },
     "metadata": {},
     "execution_count": 18
    }
   ],
   "source": [
    "# Cột 'Accident Fields_Reference Number' và 'Vehicle Fields_Reference Number'\n",
    "(df_18['Accident Fields_Reference Number'] == df_18['Vehicle Fields_Reference Number']).value_counts()"
   ]
  },
  {
   "cell_type": "code",
   "execution_count": 19,
   "id": "b5d61c09",
   "metadata": {},
   "outputs": [
    {
     "output_type": "execute_result",
     "data": {
      "text/plain": [
       "True    1995\n",
       "dtype: int64"
      ]
     },
     "metadata": {},
     "execution_count": 19
    }
   ],
   "source": [
    "# Cột 'Accident Fields_Reference Number' và 'Casualty Fields_Reference Number'\n",
    "(df_18['Accident Fields_Reference Number'] == df_18['Casualty Fields_Reference Number']).value_counts()"
   ]
  },
  {
   "cell_type": "code",
   "execution_count": 20,
   "id": "00a6580f",
   "metadata": {},
   "outputs": [
    {
     "output_type": "stream",
     "name": "stdout",
     "text": [
      "2018\n True     1301\nFalse     694\ndtype: int64\n\n2019\n True     1288\nFalse     619\ndtype: int64\n"
     ]
    }
   ],
   "source": [
    "# Cột 'Number of Vehicles' và 'Vehicle Number' năm 2018 và 2019\n",
    "print('2018\\n', (df_18['Number of Vehicles'] == df_18['Vehicle Number']).value_counts())\n",
    "print()\n",
    "print('2019\\n', (df_19['Number of Vehicles'] == df_19['Vehicle Number']).value_counts())"
   ]
  },
  {
   "cell_type": "code",
   "execution_count": null,
   "metadata": {},
   "outputs": [],
   "source": []
  },
  {
   "cell_type": "markdown",
   "id": "d536c324",
   "metadata": {},
   "source": [
    "- Vậy phát hiện cột **'Accident Fields_Reference Number', 'Vehicle Fields_Reference Number' và 'Casualty Fields_Reference Number'** trong tập dữ liệu năm 2018 giống nhau. Thực hiện xóa 2 cột sau và đổi tên cột đầu thành **'Reference Number'** để ghép với tập dữ liệu năm 2019\n",
    "\n",
    "- Trong cả 2 tập dữ liệu, có 2 cột **'Number of Vehicles'** và **'Vehicle Number'** chứa dữ liệu giống nhau trên 65%. Do đó, xoá cột **'Vehicle Number'** ở cả 2 tập dữ liệu\n",
    "\n",
    "- Ngoài ra cột **'Casualty Veh No'** chỉ có trong tập dữ liệu năm 2018 nên cũng bị xoá để merge dữ liệu"
   ]
  },
  {
   "cell_type": "code",
   "execution_count": 21,
   "id": "56801457",
   "metadata": {},
   "outputs": [],
   "source": [
    "# Xóa cột 'Vehicle Fields_Reference Number', 'Casualty Fields_Reference Number', 'Casualty Veh No', 'Vehicle Number' của năm 2018\n",
    "df_18.drop(columns=['Vehicle Fields_Reference Number', 'Casualty Fields_Reference Number',\n",
    "                   'Casualty Veh No', 'Vehicle Number'], inplace=True)\n",
    "\n",
    "# Xoá cột 'Vehicle Number' của năm 2019\n",
    "df_19.drop(columns=['Vehicle Number'], inplace=True)\n",
    "\n",
    "# đổi tên cột thành 'Reference Number'\n",
    "df_18.rename(columns={'Accident Fields_Reference Number': 'Reference Number'}, inplace=True)"
   ]
  },
  {
   "cell_type": "code",
   "execution_count": 25,
   "id": "0c574894",
   "metadata": {},
   "outputs": [
    {
     "output_type": "execute_result",
     "data": {
      "text/plain": [
       "     Reference Number  Grid Ref: Easting  Grid Ref: Northing  \\\n",
       "0             51B0230             433936              428874   \n",
       "1             51B0349             430076              433872   \n",
       "2             51B0349             430076              433872   \n",
       "3             51B0349             430076              433872   \n",
       "4             51B0349             430076              433872   \n",
       "...               ...                ...                 ...   \n",
       "3897          6CU0181             442094              434619   \n",
       "3898          6CU0363             423019              437653   \n",
       "3899          6CV0723             436853              442515   \n",
       "3900          6CV1518             421466              433999   \n",
       "3901          6CV1518             421466              433999   \n",
       "\n",
       "      Number of Vehicles Accident Date  Time (24hr)  1st Road Class  \\\n",
       "0                      1    11/01/2018          700               6   \n",
       "1                      1    11/01/2018          855               6   \n",
       "2                      1    11/01/2018          855               6   \n",
       "3                      1    11/01/2018          855               6   \n",
       "4                      1    11/01/2018          855               6   \n",
       "...                  ...           ...          ...             ...   \n",
       "3897                   1    30/12/2019          422               1   \n",
       "3898                   1    30/12/2019         1000               3   \n",
       "3899                   2    31/12/2019         1340               3   \n",
       "3900                   3    31/12/2019         1640               3   \n",
       "3901                   3    31/12/2019         1640               3   \n",
       "\n",
       "     1st Road Class & No  Road Surface  Lighting Conditions  \\\n",
       "0                      U             1                    4   \n",
       "1                      U             2                    1   \n",
       "2                      U             2                    1   \n",
       "3                      U             2                    1   \n",
       "4                      U             2                    1   \n",
       "...                  ...           ...                  ...   \n",
       "3897                  M1             2                    4   \n",
       "3898                 A65             4                    1   \n",
       "3899                 A58             1                    1   \n",
       "3900                A647             1                    4   \n",
       "3901                A647             1                    4   \n",
       "\n",
       "      Weather Conditions Local Authority  Type of Vehicle  Casualty Class  \\\n",
       "0                      1       E08000035                9               3   \n",
       "1                      1       E08000035               11               2   \n",
       "2                      1       E08000035               11               2   \n",
       "3                      1       E08000035               11               2   \n",
       "4                      1       E08000035               11               2   \n",
       "...                  ...             ...              ...             ...   \n",
       "3897                   4       E08000035                9               1   \n",
       "3898                   1       E08000035                5               1   \n",
       "3899                   1       E08000035                1               1   \n",
       "3900                   1       E08000035                9               1   \n",
       "3901                   1       E08000035                9               2   \n",
       "\n",
       "      Casualty Severity  Sex of Casualty  Age of Casualty  \n",
       "0                     3                2               87  \n",
       "1                     3                2               60  \n",
       "2                     3                2               51  \n",
       "3                     3                2               50  \n",
       "4                     3                2               51  \n",
       "...                 ...              ...              ...  \n",
       "3897                  3                1               27  \n",
       "3898                  2                1               36  \n",
       "3899                  2                1               59  \n",
       "3900                  3                1               41  \n",
       "3901                  3                1               26  \n",
       "\n",
       "[3902 rows x 17 columns]"
      ],
      "text/html": "<div>\n<style scoped>\n    .dataframe tbody tr th:only-of-type {\n        vertical-align: middle;\n    }\n\n    .dataframe tbody tr th {\n        vertical-align: top;\n    }\n\n    .dataframe thead th {\n        text-align: right;\n    }\n</style>\n<table border=\"1\" class=\"dataframe\">\n  <thead>\n    <tr style=\"text-align: right;\">\n      <th></th>\n      <th>Reference Number</th>\n      <th>Grid Ref: Easting</th>\n      <th>Grid Ref: Northing</th>\n      <th>Number of Vehicles</th>\n      <th>Accident Date</th>\n      <th>Time (24hr)</th>\n      <th>1st Road Class</th>\n      <th>1st Road Class &amp; No</th>\n      <th>Road Surface</th>\n      <th>Lighting Conditions</th>\n      <th>Weather Conditions</th>\n      <th>Local Authority</th>\n      <th>Type of Vehicle</th>\n      <th>Casualty Class</th>\n      <th>Casualty Severity</th>\n      <th>Sex of Casualty</th>\n      <th>Age of Casualty</th>\n    </tr>\n  </thead>\n  <tbody>\n    <tr>\n      <th>0</th>\n      <td>51B0230</td>\n      <td>433936</td>\n      <td>428874</td>\n      <td>1</td>\n      <td>11/01/2018</td>\n      <td>700</td>\n      <td>6</td>\n      <td>U</td>\n      <td>1</td>\n      <td>4</td>\n      <td>1</td>\n      <td>E08000035</td>\n      <td>9</td>\n      <td>3</td>\n      <td>3</td>\n      <td>2</td>\n      <td>87</td>\n    </tr>\n    <tr>\n      <th>1</th>\n      <td>51B0349</td>\n      <td>430076</td>\n      <td>433872</td>\n      <td>1</td>\n      <td>11/01/2018</td>\n      <td>855</td>\n      <td>6</td>\n      <td>U</td>\n      <td>2</td>\n      <td>1</td>\n      <td>1</td>\n      <td>E08000035</td>\n      <td>11</td>\n      <td>2</td>\n      <td>3</td>\n      <td>2</td>\n      <td>60</td>\n    </tr>\n    <tr>\n      <th>2</th>\n      <td>51B0349</td>\n      <td>430076</td>\n      <td>433872</td>\n      <td>1</td>\n      <td>11/01/2018</td>\n      <td>855</td>\n      <td>6</td>\n      <td>U</td>\n      <td>2</td>\n      <td>1</td>\n      <td>1</td>\n      <td>E08000035</td>\n      <td>11</td>\n      <td>2</td>\n      <td>3</td>\n      <td>2</td>\n      <td>51</td>\n    </tr>\n    <tr>\n      <th>3</th>\n      <td>51B0349</td>\n      <td>430076</td>\n      <td>433872</td>\n      <td>1</td>\n      <td>11/01/2018</td>\n      <td>855</td>\n      <td>6</td>\n      <td>U</td>\n      <td>2</td>\n      <td>1</td>\n      <td>1</td>\n      <td>E08000035</td>\n      <td>11</td>\n      <td>2</td>\n      <td>3</td>\n      <td>2</td>\n      <td>50</td>\n    </tr>\n    <tr>\n      <th>4</th>\n      <td>51B0349</td>\n      <td>430076</td>\n      <td>433872</td>\n      <td>1</td>\n      <td>11/01/2018</td>\n      <td>855</td>\n      <td>6</td>\n      <td>U</td>\n      <td>2</td>\n      <td>1</td>\n      <td>1</td>\n      <td>E08000035</td>\n      <td>11</td>\n      <td>2</td>\n      <td>3</td>\n      <td>2</td>\n      <td>51</td>\n    </tr>\n    <tr>\n      <th>...</th>\n      <td>...</td>\n      <td>...</td>\n      <td>...</td>\n      <td>...</td>\n      <td>...</td>\n      <td>...</td>\n      <td>...</td>\n      <td>...</td>\n      <td>...</td>\n      <td>...</td>\n      <td>...</td>\n      <td>...</td>\n      <td>...</td>\n      <td>...</td>\n      <td>...</td>\n      <td>...</td>\n      <td>...</td>\n    </tr>\n    <tr>\n      <th>3897</th>\n      <td>6CU0181</td>\n      <td>442094</td>\n      <td>434619</td>\n      <td>1</td>\n      <td>30/12/2019</td>\n      <td>422</td>\n      <td>1</td>\n      <td>M1</td>\n      <td>2</td>\n      <td>4</td>\n      <td>4</td>\n      <td>E08000035</td>\n      <td>9</td>\n      <td>1</td>\n      <td>3</td>\n      <td>1</td>\n      <td>27</td>\n    </tr>\n    <tr>\n      <th>3898</th>\n      <td>6CU0363</td>\n      <td>423019</td>\n      <td>437653</td>\n      <td>1</td>\n      <td>30/12/2019</td>\n      <td>1000</td>\n      <td>3</td>\n      <td>A65</td>\n      <td>4</td>\n      <td>1</td>\n      <td>1</td>\n      <td>E08000035</td>\n      <td>5</td>\n      <td>1</td>\n      <td>2</td>\n      <td>1</td>\n      <td>36</td>\n    </tr>\n    <tr>\n      <th>3899</th>\n      <td>6CV0723</td>\n      <td>436853</td>\n      <td>442515</td>\n      <td>2</td>\n      <td>31/12/2019</td>\n      <td>1340</td>\n      <td>3</td>\n      <td>A58</td>\n      <td>1</td>\n      <td>1</td>\n      <td>1</td>\n      <td>E08000035</td>\n      <td>1</td>\n      <td>1</td>\n      <td>2</td>\n      <td>1</td>\n      <td>59</td>\n    </tr>\n    <tr>\n      <th>3900</th>\n      <td>6CV1518</td>\n      <td>421466</td>\n      <td>433999</td>\n      <td>3</td>\n      <td>31/12/2019</td>\n      <td>1640</td>\n      <td>3</td>\n      <td>A647</td>\n      <td>1</td>\n      <td>4</td>\n      <td>1</td>\n      <td>E08000035</td>\n      <td>9</td>\n      <td>1</td>\n      <td>3</td>\n      <td>1</td>\n      <td>41</td>\n    </tr>\n    <tr>\n      <th>3901</th>\n      <td>6CV1518</td>\n      <td>421466</td>\n      <td>433999</td>\n      <td>3</td>\n      <td>31/12/2019</td>\n      <td>1640</td>\n      <td>3</td>\n      <td>A647</td>\n      <td>1</td>\n      <td>4</td>\n      <td>1</td>\n      <td>E08000035</td>\n      <td>9</td>\n      <td>2</td>\n      <td>3</td>\n      <td>1</td>\n      <td>26</td>\n    </tr>\n  </tbody>\n</table>\n<p>3902 rows × 17 columns</p>\n</div>"
     },
     "metadata": {},
     "execution_count": 25
    }
   ],
   "source": [
    "# ghép dữ liệu năm 2018 và 2019\n",
    "traffic_df = df_18.append(df_19, ignore_index=True)\n",
    "traffic_df"
   ]
  },
  {
   "cell_type": "code",
   "execution_count": 28,
   "id": "9d44ab99",
   "metadata": {},
   "outputs": [],
   "source": [
    "# xuất DataFrame ra file csv\n",
    "traffic_df.to_csv('../Data/data_2018_2019.csv', index=False)"
   ]
  }
 ],
 "metadata": {
  "kernelspec": {
   "name": "python383jvsc74a57bd0e134e05457d34029b6460cd73bbf1ed73f339b5b6d98c95be70b69eba114fe95",
   "display_name": "Python 3.8.3 64-bit ('base': conda)"
  },
  "language_info": {
   "codemirror_mode": {
    "name": "ipython",
    "version": 3
   },
   "file_extension": ".py",
   "mimetype": "text/x-python",
   "name": "python",
   "nbconvert_exporter": "python",
   "pygments_lexer": "ipython3",
   "version": "3.8.3"
  }
 },
 "nbformat": 4,
 "nbformat_minor": 5
}