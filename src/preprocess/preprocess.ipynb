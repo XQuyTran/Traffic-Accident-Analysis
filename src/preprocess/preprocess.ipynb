{
  "nbformat": 4,
  "nbformat_minor": 0,
  "metadata": {
    "colab": {
      "name": "preprocess.ipynb",
      "provenance": []
    },
    "kernelspec": {
      "name": "python383jvsc74a57bd0e134e05457d34029b6460cd73bbf1ed73f339b5b6d98c95be70b69eba114fe95",
      "display_name": "Python 3.8.3 64-bit ('base': conda)"
    },
    "language_info": {
      "name": "python",
      "version": "3.8.3-final"
    }
  },
  "cells": [
    {
      "cell_type": "markdown",
      "metadata": {
        "id": "8e5s758gaiXH"
      },
      "source": [
        "# Tiền xử lý các cột trong tập dữ liệu\n",
        "**Note:** Dữ liệu được sử dụng tại đây là file `./Data/data_2018_2019.csv`. File này được merge từ 2 file `./Data/data_2018.csv` và `./Data/data_2019.csv`. Chi tiết xem tại `./preprocess/merge_data.ipynb`"
      ]
    },
    {
      "cell_type": "code",
      "metadata": {
        "id": "RCBiM0szbAuZ"
      },
      "source": [
        "import pandas as pd"
      ],
      "execution_count": 4,
      "outputs": []
    },
    {
      "cell_type": "code",
      "metadata": {
        "colab": {
          "base_uri": "https://localhost:8080/",
          "height": 275
        },
        "id": "A-GJGMLibHGQ",
        "outputId": "971f0a99-3456-44e9-ae57-3d31f518a860"
      },
      "source": [
        "df = pd.read_csv('../../Data/data_2018_2019.csv')\n",
        "df.head()"
      ],
      "execution_count": 5,
      "outputs": [
        {
          "output_type": "execute_result",
          "data": {
            "text/plain": [
              "  Reference Number  Grid Ref: Easting  Grid Ref: Northing  Number of Vehicles  \\\n",
              "0          51B0230             433936              428874                   1   \n",
              "1          51B0349             430076              433872                   1   \n",
              "2          51B0349             430076              433872                   1   \n",
              "3          51B0349             430076              433872                   1   \n",
              "4          51B0349             430076              433872                   1   \n",
              "\n",
              "  Accident Date  Time (24hr)  1st Road Class 1st Road Class & No  \\\n",
              "0    11/01/2018          700               6                   U   \n",
              "1    11/01/2018          855               6                   U   \n",
              "2    11/01/2018          855               6                   U   \n",
              "3    11/01/2018          855               6                   U   \n",
              "4    11/01/2018          855               6                   U   \n",
              "\n",
              "   Road Surface  Lighting Conditions  Weather Conditions Local Authority  \\\n",
              "0             1                    4                   1       E08000035   \n",
              "1             2                    1                   1       E08000035   \n",
              "2             2                    1                   1       E08000035   \n",
              "3             2                    1                   1       E08000035   \n",
              "4             2                    1                   1       E08000035   \n",
              "\n",
              "   Type of Vehicle  Casualty Class  Casualty Severity  Sex of Casualty  \\\n",
              "0                9               3                  3                2   \n",
              "1               11               2                  3                2   \n",
              "2               11               2                  3                2   \n",
              "3               11               2                  3                2   \n",
              "4               11               2                  3                2   \n",
              "\n",
              "   Age of Casualty  \n",
              "0               87  \n",
              "1               60  \n",
              "2               51  \n",
              "3               50  \n",
              "4               51  "
            ],
            "text/html": "<div>\n<style scoped>\n    .dataframe tbody tr th:only-of-type {\n        vertical-align: middle;\n    }\n\n    .dataframe tbody tr th {\n        vertical-align: top;\n    }\n\n    .dataframe thead th {\n        text-align: right;\n    }\n</style>\n<table border=\"1\" class=\"dataframe\">\n  <thead>\n    <tr style=\"text-align: right;\">\n      <th></th>\n      <th>Reference Number</th>\n      <th>Grid Ref: Easting</th>\n      <th>Grid Ref: Northing</th>\n      <th>Number of Vehicles</th>\n      <th>Accident Date</th>\n      <th>Time (24hr)</th>\n      <th>1st Road Class</th>\n      <th>1st Road Class &amp; No</th>\n      <th>Road Surface</th>\n      <th>Lighting Conditions</th>\n      <th>Weather Conditions</th>\n      <th>Local Authority</th>\n      <th>Type of Vehicle</th>\n      <th>Casualty Class</th>\n      <th>Casualty Severity</th>\n      <th>Sex of Casualty</th>\n      <th>Age of Casualty</th>\n    </tr>\n  </thead>\n  <tbody>\n    <tr>\n      <th>0</th>\n      <td>51B0230</td>\n      <td>433936</td>\n      <td>428874</td>\n      <td>1</td>\n      <td>11/01/2018</td>\n      <td>700</td>\n      <td>6</td>\n      <td>U</td>\n      <td>1</td>\n      <td>4</td>\n      <td>1</td>\n      <td>E08000035</td>\n      <td>9</td>\n      <td>3</td>\n      <td>3</td>\n      <td>2</td>\n      <td>87</td>\n    </tr>\n    <tr>\n      <th>1</th>\n      <td>51B0349</td>\n      <td>430076</td>\n      <td>433872</td>\n      <td>1</td>\n      <td>11/01/2018</td>\n      <td>855</td>\n      <td>6</td>\n      <td>U</td>\n      <td>2</td>\n      <td>1</td>\n      <td>1</td>\n      <td>E08000035</td>\n      <td>11</td>\n      <td>2</td>\n      <td>3</td>\n      <td>2</td>\n      <td>60</td>\n    </tr>\n    <tr>\n      <th>2</th>\n      <td>51B0349</td>\n      <td>430076</td>\n      <td>433872</td>\n      <td>1</td>\n      <td>11/01/2018</td>\n      <td>855</td>\n      <td>6</td>\n      <td>U</td>\n      <td>2</td>\n      <td>1</td>\n      <td>1</td>\n      <td>E08000035</td>\n      <td>11</td>\n      <td>2</td>\n      <td>3</td>\n      <td>2</td>\n      <td>51</td>\n    </tr>\n    <tr>\n      <th>3</th>\n      <td>51B0349</td>\n      <td>430076</td>\n      <td>433872</td>\n      <td>1</td>\n      <td>11/01/2018</td>\n      <td>855</td>\n      <td>6</td>\n      <td>U</td>\n      <td>2</td>\n      <td>1</td>\n      <td>1</td>\n      <td>E08000035</td>\n      <td>11</td>\n      <td>2</td>\n      <td>3</td>\n      <td>2</td>\n      <td>50</td>\n    </tr>\n    <tr>\n      <th>4</th>\n      <td>51B0349</td>\n      <td>430076</td>\n      <td>433872</td>\n      <td>1</td>\n      <td>11/01/2018</td>\n      <td>855</td>\n      <td>6</td>\n      <td>U</td>\n      <td>2</td>\n      <td>1</td>\n      <td>1</td>\n      <td>E08000035</td>\n      <td>11</td>\n      <td>2</td>\n      <td>3</td>\n      <td>2</td>\n      <td>51</td>\n    </tr>\n  </tbody>\n</table>\n</div>"
          },
          "metadata": {},
          "execution_count": 5
        }
      ]
    },
    {
      "cell_type": "code",
      "metadata": {
        "colab": {
          "base_uri": "https://localhost:8080/"
        },
        "id": "XZIiR99EbQ47",
        "outputId": "31af8371-445a-420e-f762-f6919556a6fc"
      },
      "source": [
        "print('Shape:',df.shape)\n",
        "df.info()"
      ],
      "execution_count": 6,
      "outputs": [
        {
          "output_type": "stream",
          "name": "stdout",
          "text": [
            "Shape: (3902, 17)\n<class 'pandas.core.frame.DataFrame'>\nRangeIndex: 3902 entries, 0 to 3901\nData columns (total 17 columns):\n #   Column               Non-Null Count  Dtype \n---  ------               --------------  ----- \n 0   Reference Number     3902 non-null   object\n 1   Grid Ref: Easting    3902 non-null   int64 \n 2   Grid Ref: Northing   3902 non-null   int64 \n 3   Number of Vehicles   3902 non-null   int64 \n 4   Accident Date        3902 non-null   object\n 5   Time (24hr)          3902 non-null   int64 \n 6   1st Road Class       3902 non-null   int64 \n 7   1st Road Class & No  3902 non-null   object\n 8   Road Surface         3902 non-null   int64 \n 9   Lighting Conditions  3902 non-null   int64 \n 10  Weather Conditions   3902 non-null   int64 \n 11  Local Authority      3902 non-null   object\n 12  Type of Vehicle      3902 non-null   int64 \n 13  Casualty Class       3902 non-null   int64 \n 14  Casualty Severity    3902 non-null   int64 \n 15  Sex of Casualty      3902 non-null   int64 \n 16  Age of Casualty      3902 non-null   int64 \ndtypes: int64(13), object(4)\nmemory usage: 518.4+ KB\n"
          ]
        }
      ]
    },
    {
      "cell_type": "markdown",
      "metadata": {
        "id": "6D7jLzEwbXF9"
      },
      "source": [
        "**Nhận xét:**\n",
        "- Trong bảng dữ liệu không chứa giá trị null.\n",
        "- Các cột sẽ được giữ nguyên:`Reference Number`, `Grid Ref: Easting`, `Grid Ref: Northing`, `Number of Vehicles`, `1st Road Class & No`, `Age of Casualty`"
      ]
    },
    {
      "cell_type": "markdown",
      "metadata": {
        "id": "8MThC8p9jquV"
      },
      "source": [
        "## Tiền xử lý cột `Accident Date`\n",
        "- `Accident Date` đang ở dạng `object` nên được ép kiểu về `Datetime` và sắp xếp tăng dần từ năm 2018 đến năm 2019"
      ]
    },
    {
      "cell_type": "code",
      "metadata": {
        "colab": {
          "base_uri": "https://localhost:8080/",
          "height": 360
        },
        "collapsed": true,
        "id": "H_dcZGVWcgFj",
        "outputId": "0bda50c7-89d6-4dde-ecae-58bd17b26437"
      },
      "source": [
        "df['Accident Date'] = pd.to_datetime(df['Accident Date'])\n",
        "df.sort_values(by=['Accident Date'], ascending=True, inplace=True)\n",
        "df.head()"
      ],
      "execution_count": 7,
      "outputs": [
        {
          "output_type": "execute_result",
          "data": {
            "text/plain": [
              "   Reference Number  Grid Ref: Easting  Grid Ref: Northing  \\\n",
              "26          5110577             430660              430766   \n",
              "25          5110577             430660              430766   \n",
              "27          5110577             430660              430766   \n",
              "28          5111304             431442              432717   \n",
              "30          5111365             429509              431308   \n",
              "\n",
              "    Number of Vehicles Accident Date  Time (24hr)  1st Road Class  \\\n",
              "26                   1    2018-01-01          344               6   \n",
              "25                   1    2018-01-01          344               6   \n",
              "27                   1    2018-01-01          344               6   \n",
              "28                   2    2018-01-01         1335               3   \n",
              "30                   2    2018-01-01         1421               6   \n",
              "\n",
              "   1st Road Class & No  Road Surface  Lighting Conditions  Weather Conditions  \\\n",
              "26                   U             2                    4                   1   \n",
              "25                   U             2                    4                   1   \n",
              "27                   U             2                    4                   1   \n",
              "28                 A63             1                    1                   1   \n",
              "30                   U             2                    1                   2   \n",
              "\n",
              "   Local Authority  Type of Vehicle  Casualty Class  Casualty Severity  \\\n",
              "26       E08000035                9               2                  3   \n",
              "25       E08000035                9               1                  3   \n",
              "27       E08000035                9               2                  2   \n",
              "28       E08000035                9               1                  3   \n",
              "30       E08000035                9               2                  3   \n",
              "\n",
              "    Sex of Casualty  Age of Casualty  \n",
              "26                1               23  \n",
              "25                1               23  \n",
              "27                1               33  \n",
              "28                2               57  \n",
              "30                1               18  "
            ],
            "text/html": "<div>\n<style scoped>\n    .dataframe tbody tr th:only-of-type {\n        vertical-align: middle;\n    }\n\n    .dataframe tbody tr th {\n        vertical-align: top;\n    }\n\n    .dataframe thead th {\n        text-align: right;\n    }\n</style>\n<table border=\"1\" class=\"dataframe\">\n  <thead>\n    <tr style=\"text-align: right;\">\n      <th></th>\n      <th>Reference Number</th>\n      <th>Grid Ref: Easting</th>\n      <th>Grid Ref: Northing</th>\n      <th>Number of Vehicles</th>\n      <th>Accident Date</th>\n      <th>Time (24hr)</th>\n      <th>1st Road Class</th>\n      <th>1st Road Class &amp; No</th>\n      <th>Road Surface</th>\n      <th>Lighting Conditions</th>\n      <th>Weather Conditions</th>\n      <th>Local Authority</th>\n      <th>Type of Vehicle</th>\n      <th>Casualty Class</th>\n      <th>Casualty Severity</th>\n      <th>Sex of Casualty</th>\n      <th>Age of Casualty</th>\n    </tr>\n  </thead>\n  <tbody>\n    <tr>\n      <th>26</th>\n      <td>5110577</td>\n      <td>430660</td>\n      <td>430766</td>\n      <td>1</td>\n      <td>2018-01-01</td>\n      <td>344</td>\n      <td>6</td>\n      <td>U</td>\n      <td>2</td>\n      <td>4</td>\n      <td>1</td>\n      <td>E08000035</td>\n      <td>9</td>\n      <td>2</td>\n      <td>3</td>\n      <td>1</td>\n      <td>23</td>\n    </tr>\n    <tr>\n      <th>25</th>\n      <td>5110577</td>\n      <td>430660</td>\n      <td>430766</td>\n      <td>1</td>\n      <td>2018-01-01</td>\n      <td>344</td>\n      <td>6</td>\n      <td>U</td>\n      <td>2</td>\n      <td>4</td>\n      <td>1</td>\n      <td>E08000035</td>\n      <td>9</td>\n      <td>1</td>\n      <td>3</td>\n      <td>1</td>\n      <td>23</td>\n    </tr>\n    <tr>\n      <th>27</th>\n      <td>5110577</td>\n      <td>430660</td>\n      <td>430766</td>\n      <td>1</td>\n      <td>2018-01-01</td>\n      <td>344</td>\n      <td>6</td>\n      <td>U</td>\n      <td>2</td>\n      <td>4</td>\n      <td>1</td>\n      <td>E08000035</td>\n      <td>9</td>\n      <td>2</td>\n      <td>2</td>\n      <td>1</td>\n      <td>33</td>\n    </tr>\n    <tr>\n      <th>28</th>\n      <td>5111304</td>\n      <td>431442</td>\n      <td>432717</td>\n      <td>2</td>\n      <td>2018-01-01</td>\n      <td>1335</td>\n      <td>3</td>\n      <td>A63</td>\n      <td>1</td>\n      <td>1</td>\n      <td>1</td>\n      <td>E08000035</td>\n      <td>9</td>\n      <td>1</td>\n      <td>3</td>\n      <td>2</td>\n      <td>57</td>\n    </tr>\n    <tr>\n      <th>30</th>\n      <td>5111365</td>\n      <td>429509</td>\n      <td>431308</td>\n      <td>2</td>\n      <td>2018-01-01</td>\n      <td>1421</td>\n      <td>6</td>\n      <td>U</td>\n      <td>2</td>\n      <td>1</td>\n      <td>2</td>\n      <td>E08000035</td>\n      <td>9</td>\n      <td>2</td>\n      <td>3</td>\n      <td>1</td>\n      <td>18</td>\n    </tr>\n  </tbody>\n</table>\n</div>"
          },
          "metadata": {},
          "execution_count": 7
        }
      ]
    },
    {
      "cell_type": "markdown",
      "metadata": {
        "id": "ktKLKbvZjMnE"
      },
      "source": [
        "## Tiền xử lý cột `Time (24hr)`\n",
        "- `Time (24hr)` đang ở dạng `object` nên được ép kiểu về `Datetime`"
      ]
    },
    {
      "cell_type": "code",
      "metadata": {
        "colab": {
          "base_uri": "https://localhost:8080/",
          "height": 830
        },
        "id": "JlYgVCOtdU6U",
        "outputId": "194643c9-9737-4f48-c2bc-bb5f9180442a"
      },
      "source": [
        "for i in range(len(df['Time (24hr)'])):\n",
        "  df['Time (24hr)'][i] = str(df['Time (24hr)'][i]//100) + ':' + str(df['Time (24hr)'][i]%100)\n",
        "\n",
        "df['Time (24hr)'] = pd.to_datetime(df['Time (24hr)'], format='%H:%M').dt.time\n",
        "df"
      ],
      "execution_count": 8,
      "outputs": [
        {
          "output_type": "stream",
          "name": "stderr",
          "text": [
            "<ipython-input-8-7695472350c1>:2: SettingWithCopyWarning: \nA value is trying to be set on a copy of a slice from a DataFrame\n\nSee the caveats in the documentation: https://pandas.pydata.org/pandas-docs/stable/user_guide/indexing.html#returning-a-view-versus-a-copy\n  df['Time (24hr)'][i] = str(df['Time (24hr)'][i]//100) + ':' + str(df['Time (24hr)'][i]%100)\n/usr/local/anaconda3/lib/python3.8/site-packages/pandas/core/indexing.py:671: SettingWithCopyWarning: \nA value is trying to be set on a copy of a slice from a DataFrame\n\nSee the caveats in the documentation: https://pandas.pydata.org/pandas-docs/stable/user_guide/indexing.html#returning-a-view-versus-a-copy\n  self._setitem_with_indexer(indexer, value)\n"
          ]
        },
        {
          "output_type": "execute_result",
          "data": {
            "text/plain": [
              "     Reference Number  Grid Ref: Easting  Grid Ref: Northing  \\\n",
              "26            5110577             430660              430766   \n",
              "25            5110577             430660              430766   \n",
              "27            5110577             430660              430766   \n",
              "28            5111304             431442              432717   \n",
              "30            5111365             429509              431308   \n",
              "...               ...                ...                 ...   \n",
              "3897          6CU0181             442094              434619   \n",
              "3898          6CU0363             423019              437653   \n",
              "3900          6CV1518             421466              433999   \n",
              "3899          6CV0723             436853              442515   \n",
              "3901          6CV1518             421466              433999   \n",
              "\n",
              "      Number of Vehicles Accident Date Time (24hr)  1st Road Class  \\\n",
              "26                     1    2018-01-01    03:44:00               6   \n",
              "25                     1    2018-01-01    03:44:00               6   \n",
              "27                     1    2018-01-01    03:44:00               6   \n",
              "28                     2    2018-01-01    13:35:00               3   \n",
              "30                     2    2018-01-01    14:21:00               6   \n",
              "...                  ...           ...         ...             ...   \n",
              "3897                   1    2019-12-30    04:22:00               1   \n",
              "3898                   1    2019-12-30    10:00:00               3   \n",
              "3900                   3    2019-12-31    16:40:00               3   \n",
              "3899                   2    2019-12-31    13:40:00               3   \n",
              "3901                   3    2019-12-31    16:40:00               3   \n",
              "\n",
              "     1st Road Class & No  Road Surface  Lighting Conditions  \\\n",
              "26                     U             2                    4   \n",
              "25                     U             2                    4   \n",
              "27                     U             2                    4   \n",
              "28                   A63             1                    1   \n",
              "30                     U             2                    1   \n",
              "...                  ...           ...                  ...   \n",
              "3897                  M1             2                    4   \n",
              "3898                 A65             4                    1   \n",
              "3900                A647             1                    4   \n",
              "3899                 A58             1                    1   \n",
              "3901                A647             1                    4   \n",
              "\n",
              "      Weather Conditions Local Authority  Type of Vehicle  Casualty Class  \\\n",
              "26                     1       E08000035                9               2   \n",
              "25                     1       E08000035                9               1   \n",
              "27                     1       E08000035                9               2   \n",
              "28                     1       E08000035                9               1   \n",
              "30                     2       E08000035                9               2   \n",
              "...                  ...             ...              ...             ...   \n",
              "3897                   4       E08000035                9               1   \n",
              "3898                   1       E08000035                5               1   \n",
              "3900                   1       E08000035                9               1   \n",
              "3899                   1       E08000035                1               1   \n",
              "3901                   1       E08000035                9               2   \n",
              "\n",
              "      Casualty Severity  Sex of Casualty  Age of Casualty  \n",
              "26                    3                1               23  \n",
              "25                    3                1               23  \n",
              "27                    2                1               33  \n",
              "28                    3                2               57  \n",
              "30                    3                1               18  \n",
              "...                 ...              ...              ...  \n",
              "3897                  3                1               27  \n",
              "3898                  2                1               36  \n",
              "3900                  3                1               41  \n",
              "3899                  2                1               59  \n",
              "3901                  3                1               26  \n",
              "\n",
              "[3902 rows x 17 columns]"
            ],
            "text/html": "<div>\n<style scoped>\n    .dataframe tbody tr th:only-of-type {\n        vertical-align: middle;\n    }\n\n    .dataframe tbody tr th {\n        vertical-align: top;\n    }\n\n    .dataframe thead th {\n        text-align: right;\n    }\n</style>\n<table border=\"1\" class=\"dataframe\">\n  <thead>\n    <tr style=\"text-align: right;\">\n      <th></th>\n      <th>Reference Number</th>\n      <th>Grid Ref: Easting</th>\n      <th>Grid Ref: Northing</th>\n      <th>Number of Vehicles</th>\n      <th>Accident Date</th>\n      <th>Time (24hr)</th>\n      <th>1st Road Class</th>\n      <th>1st Road Class &amp; No</th>\n      <th>Road Surface</th>\n      <th>Lighting Conditions</th>\n      <th>Weather Conditions</th>\n      <th>Local Authority</th>\n      <th>Type of Vehicle</th>\n      <th>Casualty Class</th>\n      <th>Casualty Severity</th>\n      <th>Sex of Casualty</th>\n      <th>Age of Casualty</th>\n    </tr>\n  </thead>\n  <tbody>\n    <tr>\n      <th>26</th>\n      <td>5110577</td>\n      <td>430660</td>\n      <td>430766</td>\n      <td>1</td>\n      <td>2018-01-01</td>\n      <td>03:44:00</td>\n      <td>6</td>\n      <td>U</td>\n      <td>2</td>\n      <td>4</td>\n      <td>1</td>\n      <td>E08000035</td>\n      <td>9</td>\n      <td>2</td>\n      <td>3</td>\n      <td>1</td>\n      <td>23</td>\n    </tr>\n    <tr>\n      <th>25</th>\n      <td>5110577</td>\n      <td>430660</td>\n      <td>430766</td>\n      <td>1</td>\n      <td>2018-01-01</td>\n      <td>03:44:00</td>\n      <td>6</td>\n      <td>U</td>\n      <td>2</td>\n      <td>4</td>\n      <td>1</td>\n      <td>E08000035</td>\n      <td>9</td>\n      <td>1</td>\n      <td>3</td>\n      <td>1</td>\n      <td>23</td>\n    </tr>\n    <tr>\n      <th>27</th>\n      <td>5110577</td>\n      <td>430660</td>\n      <td>430766</td>\n      <td>1</td>\n      <td>2018-01-01</td>\n      <td>03:44:00</td>\n      <td>6</td>\n      <td>U</td>\n      <td>2</td>\n      <td>4</td>\n      <td>1</td>\n      <td>E08000035</td>\n      <td>9</td>\n      <td>2</td>\n      <td>2</td>\n      <td>1</td>\n      <td>33</td>\n    </tr>\n    <tr>\n      <th>28</th>\n      <td>5111304</td>\n      <td>431442</td>\n      <td>432717</td>\n      <td>2</td>\n      <td>2018-01-01</td>\n      <td>13:35:00</td>\n      <td>3</td>\n      <td>A63</td>\n      <td>1</td>\n      <td>1</td>\n      <td>1</td>\n      <td>E08000035</td>\n      <td>9</td>\n      <td>1</td>\n      <td>3</td>\n      <td>2</td>\n      <td>57</td>\n    </tr>\n    <tr>\n      <th>30</th>\n      <td>5111365</td>\n      <td>429509</td>\n      <td>431308</td>\n      <td>2</td>\n      <td>2018-01-01</td>\n      <td>14:21:00</td>\n      <td>6</td>\n      <td>U</td>\n      <td>2</td>\n      <td>1</td>\n      <td>2</td>\n      <td>E08000035</td>\n      <td>9</td>\n      <td>2</td>\n      <td>3</td>\n      <td>1</td>\n      <td>18</td>\n    </tr>\n    <tr>\n      <th>...</th>\n      <td>...</td>\n      <td>...</td>\n      <td>...</td>\n      <td>...</td>\n      <td>...</td>\n      <td>...</td>\n      <td>...</td>\n      <td>...</td>\n      <td>...</td>\n      <td>...</td>\n      <td>...</td>\n      <td>...</td>\n      <td>...</td>\n      <td>...</td>\n      <td>...</td>\n      <td>...</td>\n      <td>...</td>\n    </tr>\n    <tr>\n      <th>3897</th>\n      <td>6CU0181</td>\n      <td>442094</td>\n      <td>434619</td>\n      <td>1</td>\n      <td>2019-12-30</td>\n      <td>04:22:00</td>\n      <td>1</td>\n      <td>M1</td>\n      <td>2</td>\n      <td>4</td>\n      <td>4</td>\n      <td>E08000035</td>\n      <td>9</td>\n      <td>1</td>\n      <td>3</td>\n      <td>1</td>\n      <td>27</td>\n    </tr>\n    <tr>\n      <th>3898</th>\n      <td>6CU0363</td>\n      <td>423019</td>\n      <td>437653</td>\n      <td>1</td>\n      <td>2019-12-30</td>\n      <td>10:00:00</td>\n      <td>3</td>\n      <td>A65</td>\n      <td>4</td>\n      <td>1</td>\n      <td>1</td>\n      <td>E08000035</td>\n      <td>5</td>\n      <td>1</td>\n      <td>2</td>\n      <td>1</td>\n      <td>36</td>\n    </tr>\n    <tr>\n      <th>3900</th>\n      <td>6CV1518</td>\n      <td>421466</td>\n      <td>433999</td>\n      <td>3</td>\n      <td>2019-12-31</td>\n      <td>16:40:00</td>\n      <td>3</td>\n      <td>A647</td>\n      <td>1</td>\n      <td>4</td>\n      <td>1</td>\n      <td>E08000035</td>\n      <td>9</td>\n      <td>1</td>\n      <td>3</td>\n      <td>1</td>\n      <td>41</td>\n    </tr>\n    <tr>\n      <th>3899</th>\n      <td>6CV0723</td>\n      <td>436853</td>\n      <td>442515</td>\n      <td>2</td>\n      <td>2019-12-31</td>\n      <td>13:40:00</td>\n      <td>3</td>\n      <td>A58</td>\n      <td>1</td>\n      <td>1</td>\n      <td>1</td>\n      <td>E08000035</td>\n      <td>1</td>\n      <td>1</td>\n      <td>2</td>\n      <td>1</td>\n      <td>59</td>\n    </tr>\n    <tr>\n      <th>3901</th>\n      <td>6CV1518</td>\n      <td>421466</td>\n      <td>433999</td>\n      <td>3</td>\n      <td>2019-12-31</td>\n      <td>16:40:00</td>\n      <td>3</td>\n      <td>A647</td>\n      <td>1</td>\n      <td>4</td>\n      <td>1</td>\n      <td>E08000035</td>\n      <td>9</td>\n      <td>2</td>\n      <td>3</td>\n      <td>1</td>\n      <td>26</td>\n    </tr>\n  </tbody>\n</table>\n<p>3902 rows × 17 columns</p>\n</div>"
          },
          "metadata": {},
          "execution_count": 8
        }
      ]
    },
    {
      "cell_type": "markdown",
      "metadata": {
        "id": "aB9z3i1dnh2e"
      },
      "source": [
        "## Thay dữ liệu \n",
        "- Một số cột chứa dữ liệu dạng số rời rạc. Mỗi số đại diện cho một category.\n",
        "- Mục đích: Dễ dàng trong việc trực quan các biểu đồ\n",
        "- Các cột được thay dữ liệu: `1st Road Class`, `Road Surface`, `Lighting Conditions`, `Weather Conditions`, `Type of Vehicle`, `Casualty Class`, `Casualty Severity`, `Sex of Casualty `\n",
        "- Nội dung thay thế có thể tìm thấy tại: `./Data/guidace.xlsx`.\n",
        "- \u001dCột `Local Authority`: chứa duy nhất 1 giá trị là 'E08000035' - Một mã biểu thị vị trí cho vùng. Do đó được giữ nguyên"
      ]
    },
    {
      "cell_type": "code",
      "metadata": {
        "id": "zgnbUc4Gnolf"
      },
      "source": [
        "# # thay dữ liệu cho các cột trong dataset \n",
        "# df['1st Road Class'].replace({1: 'Motorway', \n",
        "#                               2: 'A(M)', \n",
        "#                               3: 'A', \n",
        "#                               4: 'B', \n",
        "#                               5: 'C', \n",
        "#                               6: 'Unclassified'}, inplace=True)\n",
        "\n",
        "# df['Road Surface'].replace({1: 'Dry', \n",
        "#                             2: 'Wet / Damp', \n",
        "#                             3: 'Snow', \n",
        "#                             4: 'Frost / Ice', \n",
        "#                             5: 'Flood (surface water over 3cm deep)'}, inplace=True)\n",
        "\n",
        "# df['Casualty Class'].replace({1: 'Driver or rider', \n",
        "#                               2: 'Vehicle or pillion passenger', \n",
        "#                               3: 'Pedestrian'}, inplace=True)\n",
        "\n",
        "# df['Lighting Conditions'].replace({1: 'Daylight: street lights present', \n",
        "#                                    2: 'Daylight: no street lighting', \n",
        "#                                    3: 'Daylight: street lighting unknown', \n",
        "#                                    4: 'Darkness: street lights present and lit', \n",
        "#                                    5: 'Darkness: street lights present but unlit', \n",
        "#                                    6: 'Darkness: no street lighting', \n",
        "#                                    7: 'Darkness: street lighting unknown'}, inplace=True)\n",
        "\n",
        "# df['Casualty Severity'].replace({1: 'Fatal', \n",
        "#                                  2: 'Serious', \n",
        "#                                  3: 'Slight'}, inplace=True)\n",
        "\n",
        "# df['Weather Conditions'].replace({1: 'Fine without high winds', \n",
        "#                                   2: 'Raining without high winds', \n",
        "#                                   3: 'Snowing without high winds', \n",
        "#                                   4: 'Fine with high winds', \n",
        "#                                   5: 'Raining with high winds', \n",
        "#                                   6: 'Snowing with high winds', \n",
        "#                                   7: 'Fog or mist ñ if hazard', \n",
        "#                                   8: 'Other', \n",
        "#                                   9: 'Unknown'}, inplace=True)\n",
        "\n",
        "# df['Sex of Casualty'].replace({1: 'Male', 2: 'Female'}, inplace=True)\n",
        "\n",
        "# df['Type of Vehicle'].replace({1:\t'Pedal cycle', \n",
        "#                                2:\t'M/cycle 50cc and under', \n",
        "#                                3:\t'Motorcycle over 50cc and up to 125cc', \n",
        "#                                4:\t'Motorcycle over 125cc and up to 500cc', \n",
        "#                                5:\t'Motorcycle over 500cc', \n",
        "#                                6:\t'[Not used]', \n",
        "#                                7:\t'[Not used]', \n",
        "#                                8:\t'Taxi/Private hire car', \n",
        "#                                9:\t'Car', \n",
        "#                                10:\t'Minibus (8 ñ 16 passenger seats)', \n",
        "#                                11:\t'Bus or coach (17 or more passenger seats)', \n",
        "#                                12:\t'[Not used]', \n",
        "#                                13:\t'[Not used]', \n",
        "#                                14:\t'Other motor vehicle', \n",
        "#                                15:\t'Other non-motor vehicle', \n",
        "#                                16:\t'Ridden horse', \n",
        "#                                17:\t'Agricultural vehicle (includes diggers etc.)', \n",
        "#                                18:\t'Tram / Light rail', \n",
        "#                                19:\t'Goods vehicle 3.5 tonnes mgw and under', \n",
        "#                                20:\t'Goods vehicle over 3.5 tonnes and under 7.5 tonnes mgw', \n",
        "#                                21:\t'Goods vehicle 7.5 tonnes mgw and over', \n",
        "#                                22:\t'Mobility Scooter', \n",
        "#                                90:\t'Other Vehicle ', \n",
        "#                                97:\t'Motorcycle - Unknown CC'}, inplace=True)"
      ],
      "execution_count": 51,
      "outputs": []
    },
    {
      "cell_type": "code",
      "metadata": {
        "colab": {
          "base_uri": "https://localhost:8080/"
        },
        "id": "nHqryC76zDnM",
        "outputId": "dda76b98-315b-43f3-e802-d0b2770d61b8"
      },
      "source": [
        "# duyệt lại các cột vừa được thay dữ liệu\n",
        "categoricalCols = ['1st Road Class', 'Road Surface', 'Casualty Class', 'Lighting Conditions', 'Casualty Severity', 'Weather Conditions', 'Sex of Casualty', 'Type of Vehicle']\n",
        "\n",
        "for col in categoricalCols:\n",
        "  print(f'column: {col}\\n{df[col].value_counts()}\\n\\n')"
      ],
      "execution_count": 63,
      "outputs": [
        {
          "output_type": "stream",
          "text": [
            "column: 1st Road Class\n",
            "Unclassified    2069\n",
            "A               1203\n",
            "Motorway         338\n",
            "B                149\n",
            "A(M)             135\n",
            "C                  8\n",
            "Name: 1st Road Class, dtype: int64\n",
            "\n",
            "\n",
            "column: Road Surface\n",
            "Dry                                    2885\n",
            "Wet / Damp                              946\n",
            "Frost / Ice                              37\n",
            "Snow                                     25\n",
            "Flood (surface water over 3cm deep)       7\n",
            "9                                         2\n",
            "Name: Road Surface, dtype: int64\n",
            "\n",
            "\n",
            "column: Casualty Class\n",
            "Driver or rider                 2356\n",
            "Vehicle or pillion passenger     904\n",
            "Pedestrian                       642\n",
            "Name: Casualty Class, dtype: int64\n",
            "\n",
            "\n",
            "column: Lighting Conditions\n",
            "Daylight: street lights present              2832\n",
            "Darkness: street lights present and lit       894\n",
            "Darkness: no street lighting                   87\n",
            "Darkness: street lighting unknown              70\n",
            "Darkness: street lights present but unlit      19\n",
            "Name: Lighting Conditions, dtype: int64\n",
            "\n",
            "\n",
            "column: Casualty Severity\n",
            "Slight     3209\n",
            "Serious     645\n",
            "Fatal        48\n",
            "Name: Casualty Severity, dtype: int64\n",
            "\n",
            "\n",
            "column: Weather Conditions\n",
            "Fine without high winds       3390\n",
            "Raining without high winds     381\n",
            "Raining with high winds         45\n",
            "Fine with high winds            35\n",
            "Other                           20\n",
            "Snowing without high winds      19\n",
            "Fog or mist ñ if hazard          5\n",
            "Snowing with high winds          5\n",
            "Unknown                          2\n",
            "Name: Weather Conditions, dtype: int64\n",
            "\n",
            "\n",
            "column: Sex of Casualty\n",
            "Male      2325\n",
            "Female    1577\n",
            "Name: Sex of Casualty, dtype: int64\n",
            "\n",
            "\n",
            "column: Type of Vehicle\n",
            "Car                                                       2554\n",
            "Pedal cycle                                                530\n",
            "Bus or coach (17 or more passenger seats)                  192\n",
            "Motorcycle over 50cc and up to 125cc                       138\n",
            "Taxi/Private hire car                                      132\n",
            "Goods vehicle 3.5 tonnes mgw and under                     129\n",
            "Motorcycle over 500cc                                       78\n",
            "Motorcycle over 125cc and up to 500cc                       48\n",
            "M/cycle 50cc and under                                      33\n",
            "Goods vehicle 7.5 tonnes mgw and over                       26\n",
            "Goods vehicle over 3.5 tonnes and under 7.5 tonnes mgw      12\n",
            "Minibus (8 ñ 16 passenger seats)                            10\n",
            "Other Vehicle                                                6\n",
            "Mobility Scooter                                             6\n",
            "Motorcycle - Unknown CC                                      4\n",
            "Ridden horse                                                 3\n",
            "Agricultural vehicle (includes diggers etc.)                 1\n",
            "Name: Type of Vehicle, dtype: int64\n",
            "\n",
            "\n"
          ],
          "name": "stdout"
        }
      ]
    },
    {
      "cell_type": "code",
      "metadata": {
        "colab": {
          "base_uri": "https://localhost:8080/",
          "height": 250
        },
        "id": "51UVndbQzlPk",
        "outputId": "3a2fb630-1912-4180-9ee1-022f1373169a"
      },
      "source": [
        "# phát hiện 2 điểm dữ liệu dị thường\n",
        "df[df['Road Surface']==9]"
      ],
      "execution_count": 64,
      "outputs": [
        {
          "output_type": "execute_result",
          "data": {
            "text/html": [
              "<div>\n",
              "<style scoped>\n",
              "    .dataframe tbody tr th:only-of-type {\n",
              "        vertical-align: middle;\n",
              "    }\n",
              "\n",
              "    .dataframe tbody tr th {\n",
              "        vertical-align: top;\n",
              "    }\n",
              "\n",
              "    .dataframe thead th {\n",
              "        text-align: right;\n",
              "    }\n",
              "</style>\n",
              "<table border=\"1\" class=\"dataframe\">\n",
              "  <thead>\n",
              "    <tr style=\"text-align: right;\">\n",
              "      <th></th>\n",
              "      <th>Reference Number</th>\n",
              "      <th>Grid Ref: Easting</th>\n",
              "      <th>Grid Ref: Northing</th>\n",
              "      <th>Number of Vehicles</th>\n",
              "      <th>Accident Date</th>\n",
              "      <th>Time (24hr)</th>\n",
              "      <th>1st Road Class</th>\n",
              "      <th>1st Road Class &amp; No</th>\n",
              "      <th>Road Surface</th>\n",
              "      <th>Lighting Conditions</th>\n",
              "      <th>Weather Conditions</th>\n",
              "      <th>Local Authority</th>\n",
              "      <th>Type of Vehicle</th>\n",
              "      <th>Casualty Class</th>\n",
              "      <th>Casualty Severity</th>\n",
              "      <th>Sex of Casualty</th>\n",
              "      <th>Age of Casualty</th>\n",
              "    </tr>\n",
              "  </thead>\n",
              "  <tbody>\n",
              "    <tr>\n",
              "      <th>2518</th>\n",
              "      <td>6490667</td>\n",
              "      <td>427209</td>\n",
              "      <td>430643</td>\n",
              "      <td>2</td>\n",
              "      <td>2019-02-15</td>\n",
              "      <td>14:45:00</td>\n",
              "      <td>Motorway</td>\n",
              "      <td>M621</td>\n",
              "      <td>9</td>\n",
              "      <td>Daylight: street lights present</td>\n",
              "      <td>Unknown</td>\n",
              "      <td>E08000035</td>\n",
              "      <td>Car</td>\n",
              "      <td>Driver or rider</td>\n",
              "      <td>Slight</td>\n",
              "      <td>Male</td>\n",
              "      <td>65</td>\n",
              "    </tr>\n",
              "    <tr>\n",
              "      <th>2019</th>\n",
              "      <td>6171024</td>\n",
              "      <td>425491</td>\n",
              "      <td>432085</td>\n",
              "      <td>1</td>\n",
              "      <td>2019-07-01</td>\n",
              "      <td>15:20:00</td>\n",
              "      <td>Unclassified</td>\n",
              "      <td>U</td>\n",
              "      <td>9</td>\n",
              "      <td>Daylight: street lights present</td>\n",
              "      <td>Unknown</td>\n",
              "      <td>E08000035</td>\n",
              "      <td>Taxi/Private hire car</td>\n",
              "      <td>Vehicle or pillion passenger</td>\n",
              "      <td>Serious</td>\n",
              "      <td>Female</td>\n",
              "      <td>28</td>\n",
              "    </tr>\n",
              "  </tbody>\n",
              "</table>\n",
              "</div>"
            ],
            "text/plain": [
              "     Reference Number  Grid Ref: Easting  ...  Sex of Casualty  Age of Casualty\n",
              "2518          6490667             427209  ...             Male               65\n",
              "2019          6171024             425491  ...           Female               28\n",
              "\n",
              "[2 rows x 17 columns]"
            ]
          },
          "metadata": {
            "tags": []
          },
          "execution_count": 64
        }
      ]
    },
    {
      "cell_type": "code",
      "metadata": {
        "colab": {
          "base_uri": "https://localhost:8080/",
          "height": 120
        },
        "id": "V5F9tRoF602f",
        "outputId": "da8d8696-2f37-48f0-a8ec-4ead6eb4ca0f"
      },
      "source": [
        "# tiến hành xoá 2 điểm này\n",
        "df.drop(index=[2518,2019], inplace=True)\n",
        "df[df['Road Surface']==9]"
      ],
      "execution_count": 66,
      "outputs": [
        {
          "output_type": "execute_result",
          "data": {
            "text/html": [
              "<div>\n",
              "<style scoped>\n",
              "    .dataframe tbody tr th:only-of-type {\n",
              "        vertical-align: middle;\n",
              "    }\n",
              "\n",
              "    .dataframe tbody tr th {\n",
              "        vertical-align: top;\n",
              "    }\n",
              "\n",
              "    .dataframe thead th {\n",
              "        text-align: right;\n",
              "    }\n",
              "</style>\n",
              "<table border=\"1\" class=\"dataframe\">\n",
              "  <thead>\n",
              "    <tr style=\"text-align: right;\">\n",
              "      <th></th>\n",
              "      <th>Reference Number</th>\n",
              "      <th>Grid Ref: Easting</th>\n",
              "      <th>Grid Ref: Northing</th>\n",
              "      <th>Number of Vehicles</th>\n",
              "      <th>Accident Date</th>\n",
              "      <th>Time (24hr)</th>\n",
              "      <th>1st Road Class</th>\n",
              "      <th>1st Road Class &amp; No</th>\n",
              "      <th>Road Surface</th>\n",
              "      <th>Lighting Conditions</th>\n",
              "      <th>Weather Conditions</th>\n",
              "      <th>Local Authority</th>\n",
              "      <th>Type of Vehicle</th>\n",
              "      <th>Casualty Class</th>\n",
              "      <th>Casualty Severity</th>\n",
              "      <th>Sex of Casualty</th>\n",
              "      <th>Age of Casualty</th>\n",
              "    </tr>\n",
              "  </thead>\n",
              "  <tbody>\n",
              "  </tbody>\n",
              "</table>\n",
              "</div>"
            ],
            "text/plain": [
              "Empty DataFrame\n",
              "Columns: [Reference Number, Grid Ref: Easting, Grid Ref: Northing, Number of Vehicles, Accident Date, Time (24hr), 1st Road Class, 1st Road Class & No, Road Surface, Lighting Conditions, Weather Conditions, Local Authority, Type of Vehicle, Casualty Class, Casualty Severity, Sex of Casualty, Age of Casualty]\n",
              "Index: []"
            ]
          },
          "metadata": {
            "tags": []
          },
          "execution_count": 66
        }
      ]
    }
  ]
}