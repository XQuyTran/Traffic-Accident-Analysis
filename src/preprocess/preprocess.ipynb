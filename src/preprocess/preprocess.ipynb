{
  "nbformat": 4,
  "nbformat_minor": 0,
  "metadata": {
    "colab": {
      "name": "preprocess.ipynb",
      "provenance": []
    },
    "kernelspec": {
      "name": "python383jvsc74a57bd0e134e05457d34029b6460cd73bbf1ed73f339b5b6d98c95be70b69eba114fe95",
      "display_name": "Python 3.8.3 64-bit ('base': conda)"
    },
    "language_info": {
      "name": "python",
      "version": "3.8.3"
    }
  },
  "cells": [
    {
      "cell_type": "markdown",
      "metadata": {
        "id": "8e5s758gaiXH"
      },
      "source": [
        "# Tiền xử lý các cột trong tập dữ liệu\n",
        "**Note:** Dữ liệu được sử dụng tại đây là file `./Data/data_2018_2019.csv`. File này được merge từ 2 file `./Data/data_2018.csv` và `./Data/data_2019.csv`. Chi tiết xem tại `./preprocess/merge_data.ipynb`"
      ]
    },
    {
      "cell_type": "code",
      "metadata": {
        "id": "RCBiM0szbAuZ"
      },
      "source": [
        "import pandas as pd\n",
        "import numpy as np "
      ],
      "execution_count": 2,
      "outputs": []
    },
    {
      "cell_type": "code",
      "metadata": {
        "colab": {
          "base_uri": "https://localhost:8080/"
        },
        "id": "A-GJGMLibHGQ",
        "outputId": "e1e9dfd5-c5f1-4c63-8162-0325aa1047d4"
      },
      "source": [
        "df = pd.read_csv('../../Data/df_merged.csv')\n",
        "for col in list(df.columns):\n",
        "    print(col, df[col].isna().sum())"
      ],
      "execution_count": 4,
      "outputs": [
        {
          "output_type": "stream",
          "name": "stdout",
          "text": [
            "Unnamed: 0 0\nReference Number 0\nGrid Ref: Easting 0\nGrid Ref: Northing 0\nNumber of Vehicles 0\nAccident Date 0\nTime (24hr) 0\n1st Road Class 0\nRoad Surface 1\nLighting Conditions 0\nWeather Conditions 0\nType of Vehicle 1\nCasualty Class 0\nCasualty Severity 0\nSex of Casualty 0\nAge of Casualty 0\n"
          ]
        }
      ]
    },
    {
      "cell_type": "markdown",
      "metadata": {
        "id": "NyjBDihda8Gx"
      },
      "source": [
        "- Tại cột `Road Surface` và cột `Type of Vehicle` có 1 giá trị null, điền giá trị mode của cột vào ô này"
      ]
    },
    {
      "cell_type": "code",
      "metadata": {
        "id": "T9QjVvHDbFLy"
      },
      "source": [
        "df['Road Surface'].fillna(df['Road Surface'].mode()[0], inplace=True)\n",
        "df['Type of Vehicle'].fillna(df['Type of Vehicle'].mode()[0], inplace=True)"
      ],
      "execution_count": 5,
      "outputs": []
    },
    {
      "cell_type": "code",
      "metadata": {
        "colab": {
          "base_uri": "https://localhost:8080/"
        },
        "id": "zIR1RC4znCna",
        "outputId": "04d5e372-855b-4c07-deca-36fbcaab7519"
      },
      "source": [
        "df.info()"
      ],
      "execution_count": 6,
      "outputs": [
        {
          "output_type": "stream",
          "name": "stdout",
          "text": [
            "<class 'pandas.core.frame.DataFrame'>\nRangeIndex: 13839 entries, 0 to 13838\nData columns (total 16 columns):\n #   Column               Non-Null Count  Dtype \n---  ------               --------------  ----- \n 0   Unnamed: 0           13839 non-null  int64 \n 1   Reference Number     13839 non-null  object\n 2   Grid Ref: Easting    13839 non-null  int64 \n 3   Grid Ref: Northing   13839 non-null  int64 \n 4   Number of Vehicles   13839 non-null  int64 \n 5   Accident Date        13839 non-null  object\n 6   Time (24hr)          13839 non-null  int64 \n 7   1st Road Class       13839 non-null  object\n 8   Road Surface         13839 non-null  object\n 9   Lighting Conditions  13839 non-null  object\n 10  Weather Conditions   13839 non-null  object\n 11  Type of Vehicle      13839 non-null  object\n 12  Casualty Class       13839 non-null  object\n 13  Casualty Severity    13839 non-null  object\n 14  Sex of Casualty      13839 non-null  object\n 15  Age of Casualty      13839 non-null  int64 \ndtypes: int64(6), object(10)\nmemory usage: 1.7+ MB\n"
          ]
        }
      ]
    },
    {
      "cell_type": "markdown",
      "metadata": {
        "id": "8MThC8p9jquV"
      },
      "source": [
        "## Tiền xử lý cột `Accident Date`\n",
        "- `Accident Date` đang ở dạng `object` nên được ép kiểu về `Datetime` và sắp xếp tăng dần từ năm 2014 đến năm 2019"
      ]
    },
    {
      "cell_type": "code",
      "metadata": {
        "colab": {
          "base_uri": "https://localhost:8080/",
          "height": 462
        },
        "collapsed": true,
        "id": "H_dcZGVWcgFj",
        "outputId": "46ebb7c2-51e8-40c1-9192-e01e843a1f83"
      },
      "source": [
        "df['Accident Date'] = pd.to_datetime(df['Accident Date'])\n",
        "df.sort_values(by=['Accident Date'], ascending=True, inplace=True)\n",
        "df.head()"
      ],
      "execution_count": 7,
      "outputs": [
        {
          "output_type": "execute_result",
          "data": {
            "text/plain": [
              "       Unnamed: 0 Reference Number  Grid Ref: Easting  Grid Ref: Northing  \\\n",
              "11662         354        140000717             429427              433921   \n",
              "11700         392        140012302             430481              433453   \n",
              "11659         351        140000292             428515              437286   \n",
              "11660         352        140000304             429117              439812   \n",
              "11661         353        140000717             429427              433921   \n",
              "\n",
              "       Number of Vehicles Accident Date  Time (24hr) 1st Road Class  \\\n",
              "11662                   2    2014-01-01         1415           A(M)   \n",
              "11700                   1    2014-01-01            5   Unclassified   \n",
              "11659                   3    2014-01-01          220   Unclassified   \n",
              "11660                   1    2014-01-01          130   Unclassified   \n",
              "11661                   2    2014-01-01         1415           A(M)   \n",
              "\n",
              "      Road Surface                      Lighting Conditions  \\\n",
              "11662          Dry          Daylight: Street lights present   \n",
              "11700          Dry  Darkness: Street lights present and lit   \n",
              "11659          Dry          Daylight: Street lights present   \n",
              "11660     Wet/Damp  Darkness: Street lights present and lit   \n",
              "11661          Dry          Daylight: Street lights present   \n",
              "\n",
              "            Weather Conditions        Type of Vehicle Casualty Class  \\\n",
              "11662  Fine without high winds                    Car      Passenger   \n",
              "11700  Fine without high winds  Taxi/Private hire car      Passenger   \n",
              "11659  Fine without high winds                    Car         Driver   \n",
              "11660  Fine without high winds                    Car     Pedestrian   \n",
              "11661  Fine without high winds                    Car         Driver   \n",
              "\n",
              "      Casualty Severity Sex of Casualty  Age of Casualty  \n",
              "11662            Slight            Male               28  \n",
              "11700            Slight            Male               29  \n",
              "11659            Slight          Female               21  \n",
              "11660           Serious          Female               34  \n",
              "11661            Slight            Male               34  "
            ],
            "text/html": "<div>\n<style scoped>\n    .dataframe tbody tr th:only-of-type {\n        vertical-align: middle;\n    }\n\n    .dataframe tbody tr th {\n        vertical-align: top;\n    }\n\n    .dataframe thead th {\n        text-align: right;\n    }\n</style>\n<table border=\"1\" class=\"dataframe\">\n  <thead>\n    <tr style=\"text-align: right;\">\n      <th></th>\n      <th>Unnamed: 0</th>\n      <th>Reference Number</th>\n      <th>Grid Ref: Easting</th>\n      <th>Grid Ref: Northing</th>\n      <th>Number of Vehicles</th>\n      <th>Accident Date</th>\n      <th>Time (24hr)</th>\n      <th>1st Road Class</th>\n      <th>Road Surface</th>\n      <th>Lighting Conditions</th>\n      <th>Weather Conditions</th>\n      <th>Type of Vehicle</th>\n      <th>Casualty Class</th>\n      <th>Casualty Severity</th>\n      <th>Sex of Casualty</th>\n      <th>Age of Casualty</th>\n    </tr>\n  </thead>\n  <tbody>\n    <tr>\n      <th>11662</th>\n      <td>354</td>\n      <td>140000717</td>\n      <td>429427</td>\n      <td>433921</td>\n      <td>2</td>\n      <td>2014-01-01</td>\n      <td>1415</td>\n      <td>A(M)</td>\n      <td>Dry</td>\n      <td>Daylight: Street lights present</td>\n      <td>Fine without high winds</td>\n      <td>Car</td>\n      <td>Passenger</td>\n      <td>Slight</td>\n      <td>Male</td>\n      <td>28</td>\n    </tr>\n    <tr>\n      <th>11700</th>\n      <td>392</td>\n      <td>140012302</td>\n      <td>430481</td>\n      <td>433453</td>\n      <td>1</td>\n      <td>2014-01-01</td>\n      <td>5</td>\n      <td>Unclassified</td>\n      <td>Dry</td>\n      <td>Darkness: Street lights present and lit</td>\n      <td>Fine without high winds</td>\n      <td>Taxi/Private hire car</td>\n      <td>Passenger</td>\n      <td>Slight</td>\n      <td>Male</td>\n      <td>29</td>\n    </tr>\n    <tr>\n      <th>11659</th>\n      <td>351</td>\n      <td>140000292</td>\n      <td>428515</td>\n      <td>437286</td>\n      <td>3</td>\n      <td>2014-01-01</td>\n      <td>220</td>\n      <td>Unclassified</td>\n      <td>Dry</td>\n      <td>Daylight: Street lights present</td>\n      <td>Fine without high winds</td>\n      <td>Car</td>\n      <td>Driver</td>\n      <td>Slight</td>\n      <td>Female</td>\n      <td>21</td>\n    </tr>\n    <tr>\n      <th>11660</th>\n      <td>352</td>\n      <td>140000304</td>\n      <td>429117</td>\n      <td>439812</td>\n      <td>1</td>\n      <td>2014-01-01</td>\n      <td>130</td>\n      <td>Unclassified</td>\n      <td>Wet/Damp</td>\n      <td>Darkness: Street lights present and lit</td>\n      <td>Fine without high winds</td>\n      <td>Car</td>\n      <td>Pedestrian</td>\n      <td>Serious</td>\n      <td>Female</td>\n      <td>34</td>\n    </tr>\n    <tr>\n      <th>11661</th>\n      <td>353</td>\n      <td>140000717</td>\n      <td>429427</td>\n      <td>433921</td>\n      <td>2</td>\n      <td>2014-01-01</td>\n      <td>1415</td>\n      <td>A(M)</td>\n      <td>Dry</td>\n      <td>Daylight: Street lights present</td>\n      <td>Fine without high winds</td>\n      <td>Car</td>\n      <td>Driver</td>\n      <td>Slight</td>\n      <td>Male</td>\n      <td>34</td>\n    </tr>\n  </tbody>\n</table>\n</div>"
          },
          "metadata": {},
          "execution_count": 7
        }
      ]
    },
    {
      "cell_type": "markdown",
      "metadata": {
        "id": "ktKLKbvZjMnE"
      },
      "source": [
        "## Tiền xử lý cột `Time (24hr)`\n",
        "- `Time (24hr)` đang ở dạng `object` nên được ép kiểu về `Datetime`"
      ]
    },
    {
      "cell_type": "code",
      "metadata": {
        "colab": {
          "base_uri": "https://localhost:8080/",
          "height": 632
        },
        "id": "JlYgVCOtdU6U",
        "outputId": "925b1dc9-31d6-49a0-e71a-12fb4052abf8"
      },
      "source": [
        "for i in range(len(df['Time (24hr)'])):\n",
        "  df['Time (24hr)'][i] = str(df['Time (24hr)'][i]//100) + ':' + str(df['Time (24hr)'][i]%100)\n",
        "\n",
        "df['Time (24hr)'] = pd.to_datetime(df['Time (24hr)'], format='%H:%M').dt.time\n",
        "df.head()"
      ],
      "execution_count": 8,
      "outputs": [
        {
          "output_type": "stream",
          "name": "stderr",
          "text": [
            "<ipython-input-8-a05df258ba75>:2: SettingWithCopyWarning: \nA value is trying to be set on a copy of a slice from a DataFrame\n\nSee the caveats in the documentation: https://pandas.pydata.org/pandas-docs/stable/user_guide/indexing.html#returning-a-view-versus-a-copy\n  df['Time (24hr)'][i] = str(df['Time (24hr)'][i]//100) + ':' + str(df['Time (24hr)'][i]%100)\n/usr/local/anaconda3/lib/python3.8/site-packages/pandas/core/indexing.py:671: SettingWithCopyWarning: \nA value is trying to be set on a copy of a slice from a DataFrame\n\nSee the caveats in the documentation: https://pandas.pydata.org/pandas-docs/stable/user_guide/indexing.html#returning-a-view-versus-a-copy\n  self._setitem_with_indexer(indexer, value)\n"
          ]
        },
        {
          "output_type": "execute_result",
          "data": {
            "text/plain": [
              "       Unnamed: 0 Reference Number  Grid Ref: Easting  Grid Ref: Northing  \\\n",
              "11662         354        140000717             429427              433921   \n",
              "11700         392        140012302             430481              433453   \n",
              "11659         351        140000292             428515              437286   \n",
              "11660         352        140000304             429117              439812   \n",
              "11661         353        140000717             429427              433921   \n",
              "\n",
              "       Number of Vehicles Accident Date Time (24hr) 1st Road Class  \\\n",
              "11662                   2    2014-01-01    14:15:00           A(M)   \n",
              "11700                   1    2014-01-01    00:05:00   Unclassified   \n",
              "11659                   3    2014-01-01    02:20:00   Unclassified   \n",
              "11660                   1    2014-01-01    01:30:00   Unclassified   \n",
              "11661                   2    2014-01-01    14:15:00           A(M)   \n",
              "\n",
              "      Road Surface                      Lighting Conditions  \\\n",
              "11662          Dry          Daylight: Street lights present   \n",
              "11700          Dry  Darkness: Street lights present and lit   \n",
              "11659          Dry          Daylight: Street lights present   \n",
              "11660     Wet/Damp  Darkness: Street lights present and lit   \n",
              "11661          Dry          Daylight: Street lights present   \n",
              "\n",
              "            Weather Conditions        Type of Vehicle Casualty Class  \\\n",
              "11662  Fine without high winds                    Car      Passenger   \n",
              "11700  Fine without high winds  Taxi/Private hire car      Passenger   \n",
              "11659  Fine without high winds                    Car         Driver   \n",
              "11660  Fine without high winds                    Car     Pedestrian   \n",
              "11661  Fine without high winds                    Car         Driver   \n",
              "\n",
              "      Casualty Severity Sex of Casualty  Age of Casualty  \n",
              "11662            Slight            Male               28  \n",
              "11700            Slight            Male               29  \n",
              "11659            Slight          Female               21  \n",
              "11660           Serious          Female               34  \n",
              "11661            Slight            Male               34  "
            ],
            "text/html": "<div>\n<style scoped>\n    .dataframe tbody tr th:only-of-type {\n        vertical-align: middle;\n    }\n\n    .dataframe tbody tr th {\n        vertical-align: top;\n    }\n\n    .dataframe thead th {\n        text-align: right;\n    }\n</style>\n<table border=\"1\" class=\"dataframe\">\n  <thead>\n    <tr style=\"text-align: right;\">\n      <th></th>\n      <th>Unnamed: 0</th>\n      <th>Reference Number</th>\n      <th>Grid Ref: Easting</th>\n      <th>Grid Ref: Northing</th>\n      <th>Number of Vehicles</th>\n      <th>Accident Date</th>\n      <th>Time (24hr)</th>\n      <th>1st Road Class</th>\n      <th>Road Surface</th>\n      <th>Lighting Conditions</th>\n      <th>Weather Conditions</th>\n      <th>Type of Vehicle</th>\n      <th>Casualty Class</th>\n      <th>Casualty Severity</th>\n      <th>Sex of Casualty</th>\n      <th>Age of Casualty</th>\n    </tr>\n  </thead>\n  <tbody>\n    <tr>\n      <th>11662</th>\n      <td>354</td>\n      <td>140000717</td>\n      <td>429427</td>\n      <td>433921</td>\n      <td>2</td>\n      <td>2014-01-01</td>\n      <td>14:15:00</td>\n      <td>A(M)</td>\n      <td>Dry</td>\n      <td>Daylight: Street lights present</td>\n      <td>Fine without high winds</td>\n      <td>Car</td>\n      <td>Passenger</td>\n      <td>Slight</td>\n      <td>Male</td>\n      <td>28</td>\n    </tr>\n    <tr>\n      <th>11700</th>\n      <td>392</td>\n      <td>140012302</td>\n      <td>430481</td>\n      <td>433453</td>\n      <td>1</td>\n      <td>2014-01-01</td>\n      <td>00:05:00</td>\n      <td>Unclassified</td>\n      <td>Dry</td>\n      <td>Darkness: Street lights present and lit</td>\n      <td>Fine without high winds</td>\n      <td>Taxi/Private hire car</td>\n      <td>Passenger</td>\n      <td>Slight</td>\n      <td>Male</td>\n      <td>29</td>\n    </tr>\n    <tr>\n      <th>11659</th>\n      <td>351</td>\n      <td>140000292</td>\n      <td>428515</td>\n      <td>437286</td>\n      <td>3</td>\n      <td>2014-01-01</td>\n      <td>02:20:00</td>\n      <td>Unclassified</td>\n      <td>Dry</td>\n      <td>Daylight: Street lights present</td>\n      <td>Fine without high winds</td>\n      <td>Car</td>\n      <td>Driver</td>\n      <td>Slight</td>\n      <td>Female</td>\n      <td>21</td>\n    </tr>\n    <tr>\n      <th>11660</th>\n      <td>352</td>\n      <td>140000304</td>\n      <td>429117</td>\n      <td>439812</td>\n      <td>1</td>\n      <td>2014-01-01</td>\n      <td>01:30:00</td>\n      <td>Unclassified</td>\n      <td>Wet/Damp</td>\n      <td>Darkness: Street lights present and lit</td>\n      <td>Fine without high winds</td>\n      <td>Car</td>\n      <td>Pedestrian</td>\n      <td>Serious</td>\n      <td>Female</td>\n      <td>34</td>\n    </tr>\n    <tr>\n      <th>11661</th>\n      <td>353</td>\n      <td>140000717</td>\n      <td>429427</td>\n      <td>433921</td>\n      <td>2</td>\n      <td>2014-01-01</td>\n      <td>14:15:00</td>\n      <td>A(M)</td>\n      <td>Dry</td>\n      <td>Daylight: Street lights present</td>\n      <td>Fine without high winds</td>\n      <td>Car</td>\n      <td>Driver</td>\n      <td>Slight</td>\n      <td>Male</td>\n      <td>34</td>\n    </tr>\n  </tbody>\n</table>\n</div>"
          },
          "metadata": {},
          "execution_count": 8
        }
      ]
    },
    {
      "cell_type": "code",
      "metadata": {
        "id": "pP7PvuRrBMiT"
      },
      "source": [
        "df.to_csv('../../Data/afterPreprocess.csv', index=False)"
      ],
      "execution_count": 9,
      "outputs": []
    }
  ]
}